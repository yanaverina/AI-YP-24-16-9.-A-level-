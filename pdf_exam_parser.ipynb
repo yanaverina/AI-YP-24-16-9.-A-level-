{
 "cells": [
  {
   "cell_type": "code",
   "execution_count": 13,
   "metadata": {},
   "outputs": [],
   "source": [
    "import re\n",
    "\n",
    "from pathlib import Path\n",
    "from time import sleep\n",
    "from typing import Dict, List\n",
    "\n",
    "import pandas as pd\n",
    "import PyPDF2\n",
    "import requests\n",
    "\n",
    "from selenium import webdriver\n",
    "from selenium.webdriver.common.by import By\n",
    "from tqdm import tqdm"
   ]
  },
  {
   "cell_type": "code",
   "execution_count": 14,
   "metadata": {},
   "outputs": [],
   "source": [
    "URLS = [\n",
    "    'https://qualifications.pearson.com/en/qualifications/edexcel-a-levels/business-2015.coursematerials.html#%2FfilterQuery=category:Pearson-UK:Category%2FExam-materials&filterQuery=category:Pearson-UK:Document-Type%2FQuestion-paper&filterQuery=category:Pearson-UK:Unit%2FPaper-1',\n",
    "    'https://qualifications.pearson.com/en/qualifications/edexcel-international-advanced-levels/business-2018.coursematerials.html#filterQuery=category:Pearson-UK:Category%2FExam-materials&filterQuery=category:Pearson-UK:Document-Type%2FQuestion-paper&filterQuery=category:Pearson-UK:Unit%2FUnit-1'\n",
    "]"
   ]
  },
  {
   "cell_type": "markdown",
   "metadata": {},
   "source": [
    "Данные URL открываются только под VPN, для работы парсера он тоже нужен"
   ]
  },
  {
   "cell_type": "code",
   "execution_count": 17,
   "metadata": {},
   "outputs": [],
   "source": [
    "def parse_web_page(url: str) -> None:\n",
    "    \"\"\"\n",
    "        Извлечение pdf файлов по данному url\n",
    "    \"\"\"\n",
    "    with webdriver.Chrome() as browser:\n",
    "        browser.get(url)\n",
    "        browser.maximize_window() \n",
    "        sleep(10) # На случай долгой прогрузки\n",
    "\n",
    "        browser.find_element(By.ID, 'onetrust-accept-btn-handler').click() # Согласие на куки\n",
    "        expand_all = browser.find_element(By.CSS_SELECTOR, 'a[ng-click=\"expandFiltersNew()\"]').click() # Раскрытие видимости всех pdf файлов\n",
    "        files = browser.find_elements(By.CLASS_NAME, 'doc-title') # Поиск всех pdf и сохранение в список\n",
    "        padlocks = browser.find_elements(By.CLASS_NAME, 'padlock' ) # Парсинг состояния доступности для скачивания\n",
    "        sleep(2)\n",
    "\n",
    "        cnt = 0 # Почему-то находится в два раза больше файлов, необходимо брать каждый второй\n",
    "        for file, padlock in zip(files, padlocks):\n",
    "            if cnt % 2 == 0:\n",
    "                secure = padlock.get_attribute('src') # Если атрибут src пустой, значит pdf доступен для открытия\n",
    "                if secure == None:\n",
    "                    main_window = browser.current_window_handle # Запоминаем текущую вкладку (сам сайт)\n",
    "                    file.click() # Открываем ссылку на pdf\n",
    "                    pdf_url = ''\n",
    "\n",
    "                    for handle in browser.window_handles:\n",
    "                        sleep(0.5)\n",
    "                        if handle != main_window: # Переход на вкладку, в которой отрывается pdf\n",
    "                            browser.switch_to.window(handle)\n",
    "                            sleep(1)\n",
    "                            pdf_url = browser.current_url\n",
    "                            browser.close()\n",
    "\n",
    "                    browser.switch_to.window(main_window) # Возвращаемся на сайт\n",
    "                    response = requests.get(pdf_url).content # Скачивание контента\n",
    "                    our_file = open(f\"{file.text}.pdf\", 'wb')\n",
    "                    our_file.write(response)\n",
    "            cnt += 1\n",
    "            sleep(1.5)\n",
    "        sleep(5)\n"
   ]
  },
  {
   "cell_type": "code",
   "execution_count": 18,
   "metadata": {},
   "outputs": [],
   "source": [
    "for url in URLS:\n",
    "    parse_web_page(url)\n",
    "    "
   ]
  },
  {
   "cell_type": "code",
   "execution_count": 19,
   "metadata": {},
   "outputs": [],
   "source": [
    "QUESTION_PATTERN = re.compile(r'\\(([a-zA-Z])\\)(.*?)\\(([0-9]+)\\)')\n"
   ]
  },
  {
   "cell_type": "code",
   "execution_count": 20,
   "metadata": {},
   "outputs": [],
   "source": [
    "def extract_questions_from_page(text: str) -> Dict[str, int]:\n",
    "    \"\"\"\n",
    "        Извлечение вопросов экзамена с конкретной страницы документа\n",
    "        Возвращает словарь формата {'вопрос': количество баллов за него (int)}\n",
    "    \"\"\"\n",
    "    questions = {}\n",
    "    for question in re.findall(QUESTION_PATTERN, text.replace('\\n', '')): # При парсинге pdf образуется много лишних переносов строк, их заменяем на ''\n",
    "        questions[question[1].strip()] = int(question[2].strip())\n",
    "    return questions"
   ]
  },
  {
   "cell_type": "code",
   "execution_count": 21,
   "metadata": {},
   "outputs": [],
   "source": [
    "def extract_questions_from_file(file_name: str) -> pd.DataFrame:\n",
    "    \"\"\"\n",
    "        Отктрытие файла по его названию и извлечение вопросов из него\n",
    "        Возвращает датафрейм, содержащий название файла, вопрос, баллы за него и номер страницы, на которой он располагался\n",
    "    \"\"\"\n",
    "    df = pd.DataFrame()\n",
    "    with open(f'documents/{file_name}', 'rb') as file:\n",
    "        pdf_reader = PyPDF2.PdfReader(file)\n",
    "        for i_page in range(len(pdf_reader.pages)):\n",
    "            questions = extract_questions_from_page(pdf_reader.pages[i_page].extract_text())\n",
    "            tmp = pd.DataFrame({'question': questions.keys(), 'score': questions.values()})\n",
    "            tmp['page'] = i_page + 1\n",
    "            df = pd.concat([df, tmp])\n",
    "\n",
    "    df['file'] = file_name\n",
    "    df.score = df.score.astype('int')\n",
    "\n",
    "    return df.reset_index(drop=True)\n"
   ]
  },
  {
   "cell_type": "code",
   "execution_count": 22,
   "metadata": {},
   "outputs": [],
   "source": [
    "path = Path('documents')\n",
    "file_names = [f.name for f in path.iterdir() if f.is_file()]\n"
   ]
  },
  {
   "cell_type": "code",
   "execution_count": 23,
   "metadata": {},
   "outputs": [
    {
     "name": "stderr",
     "output_type": "stream",
     "text": [
      "100%|██████████| 26/26 [00:06<00:00,  4.06it/s]\n"
     ]
    }
   ],
   "source": [
    "questions = pd.DataFrame()\n",
    "\n",
    "for file_name in tqdm(file_names):\n",
    "    questions = pd.concat([questions, extract_questions_from_file(file_name)])"
   ]
  },
  {
   "cell_type": "code",
   "execution_count": 24,
   "metadata": {},
   "outputs": [],
   "source": [
    "questions = questions.reset_index(drop=True)"
   ]
  },
  {
   "cell_type": "code",
   "execution_count": 25,
   "metadata": {},
   "outputs": [
    {
     "data": {
      "text/html": [
       "<div>\n",
       "<style scoped>\n",
       "    .dataframe tbody tr th:only-of-type {\n",
       "        vertical-align: middle;\n",
       "    }\n",
       "\n",
       "    .dataframe tbody tr th {\n",
       "        vertical-align: top;\n",
       "    }\n",
       "\n",
       "    .dataframe thead th {\n",
       "        text-align: right;\n",
       "    }\n",
       "</style>\n",
       "<table border=\"1\" class=\"dataframe\">\n",
       "  <thead>\n",
       "    <tr style=\"text-align: right;\">\n",
       "      <th></th>\n",
       "      <th>question</th>\n",
       "      <th>score</th>\n",
       "      <th>page</th>\n",
       "      <th>file</th>\n",
       "    </tr>\n",
       "  </thead>\n",
       "  <tbody>\n",
       "    <tr>\n",
       "      <th>0</th>\n",
       "      <td>Define the term ‘brand’ . (Extract A, line 9)</td>\n",
       "      <td>2</td>\n",
       "      <td>2</td>\n",
       "      <td>Question Paper - Unit 1 (WBS11) - January 2021...</td>\n",
       "    </tr>\n",
       "    <tr>\n",
       "      <th>1</th>\n",
       "      <td>Explain one r isk Jack Ma may have taken when ...</td>\n",
       "      <td>4</td>\n",
       "      <td>2</td>\n",
       "      <td>Question Paper - Unit 1 (WBS11) - January 2021...</td>\n",
       "    </tr>\n",
       "    <tr>\n",
       "      <th>2</th>\n",
       "      <td>Analyse t wo factors that may have increased d...</td>\n",
       "      <td>6</td>\n",
       "      <td>3</td>\n",
       "      <td>Question Paper - Unit 1 (WBS11) - January 2021...</td>\n",
       "    </tr>\n",
       "    <tr>\n",
       "      <th>3</th>\n",
       "      <td>Discuss if profit maximisa tion is the main bu...</td>\n",
       "      <td>8</td>\n",
       "      <td>4</td>\n",
       "      <td>Question Paper - Unit 1 (WBS11) - January 2021...</td>\n",
       "    </tr>\n",
       "    <tr>\n",
       "      <th>4</th>\n",
       "      <td>Assess the advantages of a paternalistic style...</td>\n",
       "      <td>10</td>\n",
       "      <td>5</td>\n",
       "      <td>Question Paper - Unit 1 (WBS11) - January 2021...</td>\n",
       "    </tr>\n",
       "    <tr>\n",
       "      <th>...</th>\n",
       "      <td>...</td>\n",
       "      <td>...</td>\n",
       "      <td>...</td>\n",
       "      <td>...</td>\n",
       "    </tr>\n",
       "    <tr>\n",
       "      <th>265</th>\n",
       "      <td>What is meant by a franchise?</td>\n",
       "      <td>2</td>\n",
       "      <td>9</td>\n",
       "      <td>Question paper - AS Level Paper 1 - June 2017.pdf</td>\n",
       "    </tr>\n",
       "    <tr>\n",
       "      <th>266</th>\n",
       "      <td>Explain how a flexible workforce might benefit...</td>\n",
       "      <td>4</td>\n",
       "      <td>9</td>\n",
       "      <td>Question paper - AS Level Paper 1 - June 2017.pdf</td>\n",
       "    </tr>\n",
       "    <tr>\n",
       "      <th>267</th>\n",
       "      <td>Construct a supply and demand diagram to illus...</td>\n",
       "      <td>4</td>\n",
       "      <td>10</td>\n",
       "      <td>Question paper - AS Level Paper 1 - June 2017.pdf</td>\n",
       "    </tr>\n",
       "    <tr>\n",
       "      <th>268</th>\n",
       "      <td>Assess two  benefits to SSP of operating franc...</td>\n",
       "      <td>8</td>\n",
       "      <td>11</td>\n",
       "      <td>Question paper - AS Level Paper 1 - June 2017.pdf</td>\n",
       "    </tr>\n",
       "    <tr>\n",
       "      <th>269</th>\n",
       "      <td>Assess the likely benefits to a company, such ...</td>\n",
       "      <td>10</td>\n",
       "      <td>12</td>\n",
       "      <td>Question paper - AS Level Paper 1 - June 2017.pdf</td>\n",
       "    </tr>\n",
       "  </tbody>\n",
       "</table>\n",
       "<p>270 rows × 4 columns</p>\n",
       "</div>"
      ],
      "text/plain": [
       "                                              question  score  page  \\\n",
       "0        Define the term ‘brand’ . (Extract A, line 9)      2     2   \n",
       "1    Explain one r isk Jack Ma may have taken when ...      4     2   \n",
       "2    Analyse t wo factors that may have increased d...      6     3   \n",
       "3    Discuss if profit maximisa tion is the main bu...      8     4   \n",
       "4    Assess the advantages of a paternalistic style...     10     5   \n",
       "..                                                 ...    ...   ...   \n",
       "265                      What is meant by a franchise?      2     9   \n",
       "266  Explain how a flexible workforce might benefit...      4     9   \n",
       "267  Construct a supply and demand diagram to illus...      4    10   \n",
       "268  Assess two  benefits to SSP of operating franc...      8    11   \n",
       "269  Assess the likely benefits to a company, such ...     10    12   \n",
       "\n",
       "                                                  file  \n",
       "0    Question Paper - Unit 1 (WBS11) - January 2021...  \n",
       "1    Question Paper - Unit 1 (WBS11) - January 2021...  \n",
       "2    Question Paper - Unit 1 (WBS11) - January 2021...  \n",
       "3    Question Paper - Unit 1 (WBS11) - January 2021...  \n",
       "4    Question Paper - Unit 1 (WBS11) - January 2021...  \n",
       "..                                                 ...  \n",
       "265  Question paper - AS Level Paper 1 - June 2017.pdf  \n",
       "266  Question paper - AS Level Paper 1 - June 2017.pdf  \n",
       "267  Question paper - AS Level Paper 1 - June 2017.pdf  \n",
       "268  Question paper - AS Level Paper 1 - June 2017.pdf  \n",
       "269  Question paper - AS Level Paper 1 - June 2017.pdf  \n",
       "\n",
       "[270 rows x 4 columns]"
      ]
     },
     "execution_count": 25,
     "metadata": {},
     "output_type": "execute_result"
    }
   ],
   "source": [
    "questions"
   ]
  },
  {
   "cell_type": "code",
   "execution_count": 26,
   "metadata": {},
   "outputs": [],
   "source": [
    "(\n",
    "        questions\n",
    "    .groupby('file', as_index=False)\n",
    "    .agg(\n",
    "        question_cnt=('score', 'count'),\n",
    "        score_sum=('score', 'sum')\n",
    "    )\n",
    ").to_excel('summary.xlsx', index=False)"
   ]
  },
  {
   "cell_type": "code",
   "execution_count": 27,
   "metadata": {},
   "outputs": [],
   "source": [
    "questions[['file', 'page', 'question', 'score']].to_excel('questions.xlsx', index=False)"
   ]
  }
 ],
 "metadata": {
  "kernelspec": {
   "display_name": "Python 3",
   "language": "python",
   "name": "python3"
  },
  "language_info": {
   "codemirror_mode": {
    "name": "ipython",
    "version": 3
   },
   "file_extension": ".py",
   "mimetype": "text/x-python",
   "name": "python",
   "nbconvert_exporter": "python",
   "pygments_lexer": "ipython3",
   "version": "3.12.6"
  }
 },
 "nbformat": 4,
 "nbformat_minor": 2
}
