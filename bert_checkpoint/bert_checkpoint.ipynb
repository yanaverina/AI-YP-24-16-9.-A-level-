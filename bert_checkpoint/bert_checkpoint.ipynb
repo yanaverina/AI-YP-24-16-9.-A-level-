{
  "nbformat": 4,
  "nbformat_minor": 0,
  "metadata": {
    "colab": {
      "provenance": [],
      "gpuType": "T4"
    },
    "kernelspec": {
      "name": "python3",
      "display_name": "Python 3"
    },
    "language_info": {
      "name": "python"
    },
    "accelerator": "GPU"
  },
  "cells": [
    {
      "cell_type": "code",
      "execution_count": 1,
      "metadata": {
        "id": "Hvz89_EXdSZp"
      },
      "outputs": [],
      "source": [
        "import pandas as pd\n",
        "import numpy as np\n",
        "import os\n",
        "import torch\n",
        "from torch import nn\n",
        "import torch.nn.functional as F\n",
        "from torch.optim import AdamW\n",
        "from torch.utils.data import DataLoader, Dataset\n",
        "from sklearn.model_selection import train_test_split\n",
        "from sklearn.preprocessing import LabelEncoder, label_binarize\n",
        "from sklearn.metrics import accuracy_score, classification_report, f1_score, roc_auc_score\n",
        "\n",
        "from transformers import (\n",
        "    BertTokenizer,\n",
        "    BertModel,\n",
        "    get_linear_schedule_with_warmup\n",
        ")"
      ]
    },
    {
      "cell_type": "code",
      "source": [
        "def load_questions(f_csv='Processed_data.csv'):\n",
        "  df = pd.read_csv(f_csv)\n",
        "  df = df[['question', 'target']]\n",
        "  df = df[~df['target'].isin(['?', 'unit 2'])]\n",
        "  encoder = LabelEncoder()\n",
        "  df['class_label'] = encoder.fit_transform(df['target'])\n",
        "\n",
        "  label_target = pd.DataFrame()\n",
        "  label_target['class_label'] = np.unique(df['class_label'])\n",
        "  label_target['target'] = encoder.inverse_transform(label_target['class_label'])\n",
        "\n",
        "  questions = df['question'].to_list()\n",
        "  labels = df['class_label'].to_list()\n",
        "  return questions, labels, label_target.to_dict(orient='dict')['target']"
      ],
      "metadata": {
        "id": "BVrKmAvqds7v"
      },
      "execution_count": 2,
      "outputs": []
    },
    {
      "cell_type": "code",
      "source": [
        "questions, labels, label_target = load_questions()"
      ],
      "metadata": {
        "id": "SB-6OHz1dx6y"
      },
      "execution_count": 4,
      "outputs": []
    },
    {
      "cell_type": "code",
      "source": [
        "label_target"
      ],
      "metadata": {
        "colab": {
          "base_uri": "https://localhost:8080/"
        },
        "id": "8uWa5BE4i9SH",
        "outputId": "e4c42b06-3e34-472f-ccd6-920010d39637"
      },
      "execution_count": 5,
      "outputs": [
        {
          "output_type": "execute_result",
          "data": {
            "text/plain": [
              "{0: 'entrepreneurs and leaders',\n",
              " 1: 'managing people',\n",
              " 2: 'marketing mix and strategy',\n",
              " 3: 'meeting customer needs',\n",
              " 4: 'the market'}"
            ]
          },
          "metadata": {},
          "execution_count": 5
        }
      ]
    },
    {
      "cell_type": "code",
      "source": [
        "class QuestionsDataset(Dataset):\n",
        "  def __init__(self, questions, labels, tokenizer, max_length):\n",
        "          self.questions = questions\n",
        "          self.labels = labels\n",
        "          self.tokenizer = tokenizer\n",
        "          self.max_length = max_length\n",
        "\n",
        "\n",
        "  def __len__(self):\n",
        "      return len(self.questions)\n",
        "\n",
        "\n",
        "  def __getitem__(self, idx):\n",
        "      question = self.questions[idx]\n",
        "      label = self.labels[idx]\n",
        "      encoding = self.tokenizer(question, return_tensors='pt', max_length=self.max_length, padding='max_length', truncation=True)\n",
        "      return {'input_ids': encoding['input_ids'].flatten(), 'attention_mask': encoding['attention_mask'].flatten(), 'label': torch.tensor(label)}"
      ],
      "metadata": {
        "id": "nK30LlG3g0pd"
      },
      "execution_count": 6,
      "outputs": []
    },
    {
      "cell_type": "code",
      "source": [
        "class BERTClassifier(nn.Module):\n",
        "  def __init__(self, bert_model_name, num_classes):\n",
        "      super(BERTClassifier, self).__init__()\n",
        "      self.bert = BertModel.from_pretrained(bert_model_name)\n",
        "      self.dropout = nn.Dropout(0.1)\n",
        "      self.fc = nn.Linear(self.bert.config.hidden_size, num_classes)\n",
        "\n",
        "\n",
        "  def forward(self, input_ids, attention_mask):\n",
        "          outputs = self.bert(input_ids=input_ids, attention_mask=attention_mask)\n",
        "          pooled_output = outputs.pooler_output\n",
        "          x = self.dropout(pooled_output)\n",
        "          logits = self.fc(x)\n",
        "          return logits"
      ],
      "metadata": {
        "id": "a8RdTo6sctzI"
      },
      "execution_count": 7,
      "outputs": []
    },
    {
      "cell_type": "code",
      "source": [
        "def train(model, data_loader, optimizer, scheduler, device):\n",
        "  model.train()\n",
        "  for batch in data_loader:\n",
        "      optimizer.zero_grad()\n",
        "      input_ids = batch['input_ids'].to(device)\n",
        "      attention_mask = batch['attention_mask'].to(device)\n",
        "      labels = batch['label'].to(device)\n",
        "      outputs = model(input_ids=input_ids, attention_mask=attention_mask)\n",
        "      loss = nn.CrossEntropyLoss()(outputs, labels)\n",
        "      loss.backward()\n",
        "      optimizer.step()\n",
        "      scheduler.step()\n",
        "\n",
        "def evaluate(model, data_loader, num_labels, device):\n",
        "    model.eval()\n",
        "    all_labels = []\n",
        "    all_probs  = []\n",
        "    all_preds  = []\n",
        "\n",
        "    with torch.no_grad():\n",
        "        for batch in data_loader:\n",
        "            input_ids = batch['input_ids'].to(device)\n",
        "            attention_mask = batch['attention_mask'].to(device)\n",
        "            labels = batch['label'].to(device)\n",
        "\n",
        "            # Получаем логиты\n",
        "            outputs = model(input_ids=input_ids,\n",
        "                            attention_mask=attention_mask)\n",
        "\n",
        "            logits = outputs if isinstance(outputs, torch.Tensor) else outputs.logits\n",
        "\n",
        "            # probability distribution\n",
        "            probs = F.softmax(logits, dim=1)\n",
        "\n",
        "            # жёсткие предсказания\n",
        "            preds = torch.argmax(probs, dim=1)\n",
        "\n",
        "            all_labels.append(labels.cpu().numpy())\n",
        "            all_probs .append(probs.cpu().numpy())\n",
        "            all_preds .append(preds.cpu().numpy())\n",
        "\n",
        "    # склеиваем всё в один массив\n",
        "    all_labels = np.concatenate(all_labels, axis=0)\n",
        "    all_probs  = np.concatenate(all_probs,  axis=0)\n",
        "    all_preds  = np.concatenate(all_preds,  axis=0)\n",
        "\n",
        "    # 1) F1-score\n",
        "    f1 = f1_score(all_labels, all_preds, average='weighted')\n",
        "\n",
        "    # 2) ROC-AUC\n",
        "\n",
        "    # one-hot true labels\n",
        "    labels_onehot = label_binarize(all_labels, classes=list(range(num_labels)))\n",
        "    roc_auc = roc_auc_score(\n",
        "        labels_onehot,\n",
        "        all_probs,\n",
        "        multi_class='ovr',\n",
        "        average='weighted'\n",
        "    )\n",
        "\n",
        "    return {'f1': f1, 'roc_auc': roc_auc}"
      ],
      "metadata": {
        "id": "CK4X1uVNeMee"
      },
      "execution_count": 8,
      "outputs": []
    },
    {
      "cell_type": "code",
      "source": [
        "len(max(questions, key=len))"
      ],
      "metadata": {
        "colab": {
          "base_uri": "https://localhost:8080/"
        },
        "id": "4DB1H67Z5ctM",
        "outputId": "fd8d8cf1-f307-4d64-ac8d-e3e8edff5865"
      },
      "execution_count": 9,
      "outputs": [
        {
          "output_type": "execute_result",
          "data": {
            "text/plain": [
              "289"
            ]
          },
          "metadata": {},
          "execution_count": 9
        }
      ]
    },
    {
      "cell_type": "code",
      "source": [
        "train_questions, val_questions, train_labels, val_labels = train_test_split(questions, labels, test_size=0.2, random_state=42)"
      ],
      "metadata": {
        "id": "n9ejygE45ZTI"
      },
      "execution_count": 10,
      "outputs": []
    },
    {
      "cell_type": "code",
      "source": [
        "bert_model_name = 'bert-base-uncased'\n",
        "num_classes = len(np.unique(labels))\n",
        "max_length = 300\n",
        "batch_size = 16\n",
        "num_epochs = 20\n",
        "learning_rate = 2e-5"
      ],
      "metadata": {
        "id": "ZSmPivk26FRf"
      },
      "execution_count": 18,
      "outputs": []
    },
    {
      "cell_type": "code",
      "source": [
        "tokenizer = BertTokenizer.from_pretrained(bert_model_name)\n",
        "train_dataset = QuestionsDataset(train_questions, train_labels, tokenizer, max_length)\n",
        "val_dataset = QuestionsDataset(val_questions, val_labels, tokenizer, max_length)\n",
        "train_dataloader = DataLoader(train_dataset, batch_size=batch_size, shuffle=True)\n",
        "val_dataloader = DataLoader(val_dataset, batch_size=batch_size)"
      ],
      "metadata": {
        "id": "X0JiD7wl56ae"
      },
      "execution_count": 19,
      "outputs": []
    },
    {
      "cell_type": "code",
      "source": [
        "device = torch.device(\"cuda\" if torch.cuda.is_available() else \"cpu\")\n",
        "model = BERTClassifier(bert_model_name, num_classes).to(device)"
      ],
      "metadata": {
        "id": "crmU3gPz5L6a"
      },
      "execution_count": 20,
      "outputs": []
    },
    {
      "cell_type": "code",
      "source": [
        "optimizer = AdamW(model.parameters(), lr=learning_rate, weight_decay=0.01)\n",
        "total_steps = len(train_dataloader) * num_epochs\n",
        "warmup_steps = int(0.2 * total_steps)\n",
        "scheduler = get_linear_schedule_with_warmup(\n",
        "    optimizer,\n",
        "    num_warmup_steps=warmup_steps,\n",
        "    num_training_steps=total_steps\n",
        ")"
      ],
      "metadata": {
        "id": "AKl4-JuiealA"
      },
      "execution_count": 23,
      "outputs": []
    },
    {
      "cell_type": "code",
      "source": [
        "for epoch in range(num_epochs):\n",
        "        print(f\"Epoch {epoch + 1}/{num_epochs}\")\n",
        "        train(model, train_dataloader, optimizer, scheduler, device)\n",
        "        metrics = evaluate(model, val_dataloader, num_classes, device)\n",
        "        metrics_str = '\\n'.join(f'{k}={v}' for k, v in metrics.items())\n",
        "        print(f\"Validation metrics: {metrics_str}\")\n"
      ],
      "metadata": {
        "colab": {
          "base_uri": "https://localhost:8080/"
        },
        "id": "N5hFEGOI67Wd",
        "outputId": "71b5367a-d30c-41d5-b05d-ff7d75d90949"
      },
      "execution_count": 24,
      "outputs": [
        {
          "output_type": "stream",
          "name": "stdout",
          "text": [
            "Epoch 1/20\n",
            "Validation metrics: f1=0.673245122224714\n",
            "roc_auc=0.9482117979184778\n",
            "Epoch 2/20\n",
            "Validation metrics: f1=0.7113217098438773\n",
            "roc_auc=0.9450241376229602\n",
            "Epoch 3/20\n",
            "Validation metrics: f1=0.8101820197390132\n",
            "roc_auc=0.961999472752807\n",
            "Epoch 4/20\n",
            "Validation metrics: f1=0.7930099975212757\n",
            "roc_auc=0.9657663414722168\n",
            "Epoch 5/20\n",
            "Validation metrics: f1=0.7164773601748392\n",
            "roc_auc=0.9555277115051236\n",
            "Epoch 6/20\n",
            "Validation metrics: f1=0.8124477120040562\n",
            "roc_auc=0.9681182688511777\n",
            "Epoch 7/20\n",
            "Validation metrics: f1=0.7555406045201963\n",
            "roc_auc=0.9610374006625358\n",
            "Epoch 8/20\n",
            "Validation metrics: f1=0.7930099975212757\n",
            "roc_auc=0.9726834901651674\n",
            "Epoch 9/20\n",
            "Validation metrics: f1=0.7930099975212757\n",
            "roc_auc=0.9666672388046894\n",
            "Epoch 10/20\n",
            "Validation metrics: f1=0.7930099975212757\n",
            "roc_auc=0.9671649988843309\n",
            "Epoch 11/20\n",
            "Validation metrics: f1=0.7930099975212757\n",
            "roc_auc=0.9706836477231767\n",
            "Epoch 12/20\n",
            "Validation metrics: f1=0.7930099975212757\n",
            "roc_auc=0.9763134858653303\n",
            "Epoch 13/20\n",
            "Validation metrics: f1=0.7930099975212757\n",
            "roc_auc=0.9720911072587152\n",
            "Epoch 14/20\n",
            "Validation metrics: f1=0.7930099975212757\n",
            "roc_auc=0.9706836477231767\n",
            "Epoch 15/20\n",
            "Validation metrics: f1=0.7930099975212757\n",
            "roc_auc=0.9742022965620226\n",
            "Epoch 16/20\n",
            "Validation metrics: f1=0.7930099975212757\n",
            "roc_auc=0.9763134858653303\n",
            "Epoch 17/20\n",
            "Validation metrics: f1=0.7930099975212757\n",
            "roc_auc=0.9742022965620226\n",
            "Epoch 18/20\n",
            "Validation metrics: f1=0.7930099975212757\n",
            "roc_auc=0.9742022965620226\n",
            "Epoch 19/20\n",
            "Validation metrics: f1=0.7930099975212757\n",
            "roc_auc=0.9742022965620226\n",
            "Epoch 20/20\n",
            "Validation metrics: f1=0.7930099975212757\n",
            "roc_auc=0.9742022965620226\n"
          ]
        }
      ]
    },
    {
      "cell_type": "code",
      "source": [
        "test_metrics = evaluate(model, val_dataloader, num_classes, device)\n",
        "print('\\n'.join(f'{k} = {v}' for k, v in test_metrics.items()))"
      ],
      "metadata": {
        "colab": {
          "base_uri": "https://localhost:8080/"
        },
        "id": "mld_Dc4n8Ouu",
        "outputId": "d2c89f5a-4260-4921-8118-a9b6d9e81ecd"
      },
      "execution_count": 27,
      "outputs": [
        {
          "output_type": "stream",
          "name": "stdout",
          "text": [
            "f1 = 0.7930099975212757\n",
            "roc_auc = 0.9742022965620226\n"
          ]
        }
      ]
    },
    {
      "cell_type": "markdown",
      "source": [
        "# ТЕСТ на новых вопросах"
      ],
      "metadata": {
        "id": "Dx6HxeNZAhpg"
      }
    },
    {
      "cell_type": "code",
      "source": [
        "label_target"
      ],
      "metadata": {
        "colab": {
          "base_uri": "https://localhost:8080/"
        },
        "id": "EoRzcPMCA3uL",
        "outputId": "d826cf23-0b1c-4553-c9ac-b3c37be8f07d"
      },
      "execution_count": 29,
      "outputs": [
        {
          "output_type": "execute_result",
          "data": {
            "text/plain": [
              "{0: 'entrepreneurs and leaders',\n",
              " 1: 'managing people',\n",
              " 2: 'marketing mix and strategy',\n",
              " 3: 'meeting customer needs',\n",
              " 4: 'the market'}"
            ]
          },
          "metadata": {},
          "execution_count": 29
        }
      ]
    },
    {
      "cell_type": "code",
      "source": [
        "target_label = {v:k for k, v in label_target.items()}\n",
        "target_label"
      ],
      "metadata": {
        "colab": {
          "base_uri": "https://localhost:8080/"
        },
        "id": "2Ngo3P4ECJmP",
        "outputId": "2601765b-5146-4ece-cdc6-3a8858c16168"
      },
      "execution_count": 30,
      "outputs": [
        {
          "output_type": "execute_result",
          "data": {
            "text/plain": [
              "{'entrepreneurs and leaders': 0,\n",
              " 'managing people': 1,\n",
              " 'marketing mix and strategy': 2,\n",
              " 'meeting customer needs': 3,\n",
              " 'the market': 4}"
            ]
          },
          "metadata": {},
          "execution_count": 30
        }
      ]
    },
    {
      "cell_type": "code",
      "source": [
        "df = pd.read_excel('new_questions.xlsx')\n",
        "new_questions = df['question'].to_list()\n",
        "new_questions"
      ],
      "metadata": {
        "colab": {
          "base_uri": "https://localhost:8080/"
        },
        "id": "M0NyOLfbCSV0",
        "outputId": "3c6764e4-1f0f-48f2-b482-cf6018d1bdc6"
      },
      "execution_count": 32,
      "outputs": [
        {
          "output_type": "execute_result",
          "data": {
            "text/plain": [
              "['Define the term ‘quantitative data’ . (Extract A, line 12)',\n",
              " 'Construct a supply and demand diagram to show the impact of increasing publicity on the biodegradable packaging market.',\n",
              " 'Analyse two entrepreneurial characteristics shown by Vaibhav Anant that may have helped Bambrew to succeed.',\n",
              " 'Discuss the benefits for Vaibhav Anant of using secondary market research when starting his business .',\n",
              " 'Assess if there is likely to be a trade-off between an ethical stance and profit for Bambrew.',\n",
              " 'Define the term ‘social trends’ . (Extract D, line 2)',\n",
              " 'Using the data, calculate the increase in monthly revenue for Aldi  between January 2019 and January 2020. You are advised to show your workings.',\n",
              " 'Analyse two benefits for Aldi  of having employee welfare as one of its main business objectives.',\n",
              " 'Assess the benefits for Aldi  of sponsoring the UK Olympic team.',\n",
              " 'Assess the likely impact of price comparison websites on supermarkets in the UK.']"
            ]
          },
          "metadata": {},
          "execution_count": 32
        }
      ]
    },
    {
      "cell_type": "code",
      "source": [
        "def predict_topic(text, model, tokenizer, device, max_length=300):\n",
        "    model.eval()\n",
        "    encoding = tokenizer(text, return_tensors='pt', max_length=max_length, padding='max_length', truncation=True)\n",
        "    input_ids = encoding['input_ids'].to(device)\n",
        "    attention_mask = encoding['attention_mask'].to(device)\n",
        "\n",
        "    with torch.no_grad():\n",
        "            outputs = model(input_ids=input_ids, attention_mask=attention_mask)\n",
        "            _, preds = torch.max(outputs, dim=1)\n",
        "    return label_target[preds.item()]"
      ],
      "metadata": {
        "id": "kTuybnDo_lht"
      },
      "execution_count": 35,
      "outputs": []
    },
    {
      "cell_type": "code",
      "source": [
        "df_new = pd.DataFrame()\n",
        "q_topic = {\n",
        "    'question': [],\n",
        "    'target': [],\n",
        "}\n",
        "for q in new_questions:\n",
        "  pred = predict_topic(q, model, tokenizer, device,)\n",
        "  q_topic['question'].append(q)\n",
        "  q_topic['target'].append(pred)\n",
        "df_new = pd.DataFrame(q_topic)\n",
        "df_new"
      ],
      "metadata": {
        "colab": {
          "base_uri": "https://localhost:8080/",
          "height": 363
        },
        "id": "wjmUZEVqC9MW",
        "outputId": "530cfb38-2c5f-4bd8-a92e-e23e9a9f6f13"
      },
      "execution_count": 38,
      "outputs": [
        {
          "output_type": "execute_result",
          "data": {
            "text/plain": [
              "                                            question  \\\n",
              "0  Define the term ‘quantitative data’ . (Extract...   \n",
              "1  Construct a supply and demand diagram to show ...   \n",
              "2  Analyse two entrepreneurial characteristics sh...   \n",
              "3  Discuss the benefits for Vaibhav Anant of usin...   \n",
              "4  Assess if there is likely to be a trade-off be...   \n",
              "5  Define the term ‘social trends’ . (Extract D, ...   \n",
              "6  Using the data, calculate the increase in mont...   \n",
              "7  Analyse two benefits for Aldi  of having emplo...   \n",
              "8  Assess the benefits for Aldi  of sponsoring th...   \n",
              "9  Assess the likely impact of price comparison w...   \n",
              "\n",
              "                       target  \n",
              "0      meeting customer needs  \n",
              "1                  the market  \n",
              "2   entrepreneurs and leaders  \n",
              "3      meeting customer needs  \n",
              "4   entrepreneurs and leaders  \n",
              "5      meeting customer needs  \n",
              "6      meeting customer needs  \n",
              "7             managing people  \n",
              "8  marketing mix and strategy  \n",
              "9  marketing mix and strategy  "
            ],
            "text/html": [
              "\n",
              "  <div id=\"df-b5321c55-d5c7-484e-b510-a797454bf9b4\" class=\"colab-df-container\">\n",
              "    <div>\n",
              "<style scoped>\n",
              "    .dataframe tbody tr th:only-of-type {\n",
              "        vertical-align: middle;\n",
              "    }\n",
              "\n",
              "    .dataframe tbody tr th {\n",
              "        vertical-align: top;\n",
              "    }\n",
              "\n",
              "    .dataframe thead th {\n",
              "        text-align: right;\n",
              "    }\n",
              "</style>\n",
              "<table border=\"1\" class=\"dataframe\">\n",
              "  <thead>\n",
              "    <tr style=\"text-align: right;\">\n",
              "      <th></th>\n",
              "      <th>question</th>\n",
              "      <th>target</th>\n",
              "    </tr>\n",
              "  </thead>\n",
              "  <tbody>\n",
              "    <tr>\n",
              "      <th>0</th>\n",
              "      <td>Define the term ‘quantitative data’ . (Extract...</td>\n",
              "      <td>meeting customer needs</td>\n",
              "    </tr>\n",
              "    <tr>\n",
              "      <th>1</th>\n",
              "      <td>Construct a supply and demand diagram to show ...</td>\n",
              "      <td>the market</td>\n",
              "    </tr>\n",
              "    <tr>\n",
              "      <th>2</th>\n",
              "      <td>Analyse two entrepreneurial characteristics sh...</td>\n",
              "      <td>entrepreneurs and leaders</td>\n",
              "    </tr>\n",
              "    <tr>\n",
              "      <th>3</th>\n",
              "      <td>Discuss the benefits for Vaibhav Anant of usin...</td>\n",
              "      <td>meeting customer needs</td>\n",
              "    </tr>\n",
              "    <tr>\n",
              "      <th>4</th>\n",
              "      <td>Assess if there is likely to be a trade-off be...</td>\n",
              "      <td>entrepreneurs and leaders</td>\n",
              "    </tr>\n",
              "    <tr>\n",
              "      <th>5</th>\n",
              "      <td>Define the term ‘social trends’ . (Extract D, ...</td>\n",
              "      <td>meeting customer needs</td>\n",
              "    </tr>\n",
              "    <tr>\n",
              "      <th>6</th>\n",
              "      <td>Using the data, calculate the increase in mont...</td>\n",
              "      <td>meeting customer needs</td>\n",
              "    </tr>\n",
              "    <tr>\n",
              "      <th>7</th>\n",
              "      <td>Analyse two benefits for Aldi  of having emplo...</td>\n",
              "      <td>managing people</td>\n",
              "    </tr>\n",
              "    <tr>\n",
              "      <th>8</th>\n",
              "      <td>Assess the benefits for Aldi  of sponsoring th...</td>\n",
              "      <td>marketing mix and strategy</td>\n",
              "    </tr>\n",
              "    <tr>\n",
              "      <th>9</th>\n",
              "      <td>Assess the likely impact of price comparison w...</td>\n",
              "      <td>marketing mix and strategy</td>\n",
              "    </tr>\n",
              "  </tbody>\n",
              "</table>\n",
              "</div>\n",
              "    <div class=\"colab-df-buttons\">\n",
              "\n",
              "  <div class=\"colab-df-container\">\n",
              "    <button class=\"colab-df-convert\" onclick=\"convertToInteractive('df-b5321c55-d5c7-484e-b510-a797454bf9b4')\"\n",
              "            title=\"Convert this dataframe to an interactive table.\"\n",
              "            style=\"display:none;\">\n",
              "\n",
              "  <svg xmlns=\"http://www.w3.org/2000/svg\" height=\"24px\" viewBox=\"0 -960 960 960\">\n",
              "    <path d=\"M120-120v-720h720v720H120Zm60-500h600v-160H180v160Zm220 220h160v-160H400v160Zm0 220h160v-160H400v160ZM180-400h160v-160H180v160Zm440 0h160v-160H620v160ZM180-180h160v-160H180v160Zm440 0h160v-160H620v160Z\"/>\n",
              "  </svg>\n",
              "    </button>\n",
              "\n",
              "  <style>\n",
              "    .colab-df-container {\n",
              "      display:flex;\n",
              "      gap: 12px;\n",
              "    }\n",
              "\n",
              "    .colab-df-convert {\n",
              "      background-color: #E8F0FE;\n",
              "      border: none;\n",
              "      border-radius: 50%;\n",
              "      cursor: pointer;\n",
              "      display: none;\n",
              "      fill: #1967D2;\n",
              "      height: 32px;\n",
              "      padding: 0 0 0 0;\n",
              "      width: 32px;\n",
              "    }\n",
              "\n",
              "    .colab-df-convert:hover {\n",
              "      background-color: #E2EBFA;\n",
              "      box-shadow: 0px 1px 2px rgba(60, 64, 67, 0.3), 0px 1px 3px 1px rgba(60, 64, 67, 0.15);\n",
              "      fill: #174EA6;\n",
              "    }\n",
              "\n",
              "    .colab-df-buttons div {\n",
              "      margin-bottom: 4px;\n",
              "    }\n",
              "\n",
              "    [theme=dark] .colab-df-convert {\n",
              "      background-color: #3B4455;\n",
              "      fill: #D2E3FC;\n",
              "    }\n",
              "\n",
              "    [theme=dark] .colab-df-convert:hover {\n",
              "      background-color: #434B5C;\n",
              "      box-shadow: 0px 1px 3px 1px rgba(0, 0, 0, 0.15);\n",
              "      filter: drop-shadow(0px 1px 2px rgba(0, 0, 0, 0.3));\n",
              "      fill: #FFFFFF;\n",
              "    }\n",
              "  </style>\n",
              "\n",
              "    <script>\n",
              "      const buttonEl =\n",
              "        document.querySelector('#df-b5321c55-d5c7-484e-b510-a797454bf9b4 button.colab-df-convert');\n",
              "      buttonEl.style.display =\n",
              "        google.colab.kernel.accessAllowed ? 'block' : 'none';\n",
              "\n",
              "      async function convertToInteractive(key) {\n",
              "        const element = document.querySelector('#df-b5321c55-d5c7-484e-b510-a797454bf9b4');\n",
              "        const dataTable =\n",
              "          await google.colab.kernel.invokeFunction('convertToInteractive',\n",
              "                                                    [key], {});\n",
              "        if (!dataTable) return;\n",
              "\n",
              "        const docLinkHtml = 'Like what you see? Visit the ' +\n",
              "          '<a target=\"_blank\" href=https://colab.research.google.com/notebooks/data_table.ipynb>data table notebook</a>'\n",
              "          + ' to learn more about interactive tables.';\n",
              "        element.innerHTML = '';\n",
              "        dataTable['output_type'] = 'display_data';\n",
              "        await google.colab.output.renderOutput(dataTable, element);\n",
              "        const docLink = document.createElement('div');\n",
              "        docLink.innerHTML = docLinkHtml;\n",
              "        element.appendChild(docLink);\n",
              "      }\n",
              "    </script>\n",
              "  </div>\n",
              "\n",
              "\n",
              "    <div id=\"df-fba45a36-90b7-47ae-85c7-89cb5fc6078d\">\n",
              "      <button class=\"colab-df-quickchart\" onclick=\"quickchart('df-fba45a36-90b7-47ae-85c7-89cb5fc6078d')\"\n",
              "                title=\"Suggest charts\"\n",
              "                style=\"display:none;\">\n",
              "\n",
              "<svg xmlns=\"http://www.w3.org/2000/svg\" height=\"24px\"viewBox=\"0 0 24 24\"\n",
              "     width=\"24px\">\n",
              "    <g>\n",
              "        <path d=\"M19 3H5c-1.1 0-2 .9-2 2v14c0 1.1.9 2 2 2h14c1.1 0 2-.9 2-2V5c0-1.1-.9-2-2-2zM9 17H7v-7h2v7zm4 0h-2V7h2v10zm4 0h-2v-4h2v4z\"/>\n",
              "    </g>\n",
              "</svg>\n",
              "      </button>\n",
              "\n",
              "<style>\n",
              "  .colab-df-quickchart {\n",
              "      --bg-color: #E8F0FE;\n",
              "      --fill-color: #1967D2;\n",
              "      --hover-bg-color: #E2EBFA;\n",
              "      --hover-fill-color: #174EA6;\n",
              "      --disabled-fill-color: #AAA;\n",
              "      --disabled-bg-color: #DDD;\n",
              "  }\n",
              "\n",
              "  [theme=dark] .colab-df-quickchart {\n",
              "      --bg-color: #3B4455;\n",
              "      --fill-color: #D2E3FC;\n",
              "      --hover-bg-color: #434B5C;\n",
              "      --hover-fill-color: #FFFFFF;\n",
              "      --disabled-bg-color: #3B4455;\n",
              "      --disabled-fill-color: #666;\n",
              "  }\n",
              "\n",
              "  .colab-df-quickchart {\n",
              "    background-color: var(--bg-color);\n",
              "    border: none;\n",
              "    border-radius: 50%;\n",
              "    cursor: pointer;\n",
              "    display: none;\n",
              "    fill: var(--fill-color);\n",
              "    height: 32px;\n",
              "    padding: 0;\n",
              "    width: 32px;\n",
              "  }\n",
              "\n",
              "  .colab-df-quickchart:hover {\n",
              "    background-color: var(--hover-bg-color);\n",
              "    box-shadow: 0 1px 2px rgba(60, 64, 67, 0.3), 0 1px 3px 1px rgba(60, 64, 67, 0.15);\n",
              "    fill: var(--button-hover-fill-color);\n",
              "  }\n",
              "\n",
              "  .colab-df-quickchart-complete:disabled,\n",
              "  .colab-df-quickchart-complete:disabled:hover {\n",
              "    background-color: var(--disabled-bg-color);\n",
              "    fill: var(--disabled-fill-color);\n",
              "    box-shadow: none;\n",
              "  }\n",
              "\n",
              "  .colab-df-spinner {\n",
              "    border: 2px solid var(--fill-color);\n",
              "    border-color: transparent;\n",
              "    border-bottom-color: var(--fill-color);\n",
              "    animation:\n",
              "      spin 1s steps(1) infinite;\n",
              "  }\n",
              "\n",
              "  @keyframes spin {\n",
              "    0% {\n",
              "      border-color: transparent;\n",
              "      border-bottom-color: var(--fill-color);\n",
              "      border-left-color: var(--fill-color);\n",
              "    }\n",
              "    20% {\n",
              "      border-color: transparent;\n",
              "      border-left-color: var(--fill-color);\n",
              "      border-top-color: var(--fill-color);\n",
              "    }\n",
              "    30% {\n",
              "      border-color: transparent;\n",
              "      border-left-color: var(--fill-color);\n",
              "      border-top-color: var(--fill-color);\n",
              "      border-right-color: var(--fill-color);\n",
              "    }\n",
              "    40% {\n",
              "      border-color: transparent;\n",
              "      border-right-color: var(--fill-color);\n",
              "      border-top-color: var(--fill-color);\n",
              "    }\n",
              "    60% {\n",
              "      border-color: transparent;\n",
              "      border-right-color: var(--fill-color);\n",
              "    }\n",
              "    80% {\n",
              "      border-color: transparent;\n",
              "      border-right-color: var(--fill-color);\n",
              "      border-bottom-color: var(--fill-color);\n",
              "    }\n",
              "    90% {\n",
              "      border-color: transparent;\n",
              "      border-bottom-color: var(--fill-color);\n",
              "    }\n",
              "  }\n",
              "</style>\n",
              "\n",
              "      <script>\n",
              "        async function quickchart(key) {\n",
              "          const quickchartButtonEl =\n",
              "            document.querySelector('#' + key + ' button');\n",
              "          quickchartButtonEl.disabled = true;  // To prevent multiple clicks.\n",
              "          quickchartButtonEl.classList.add('colab-df-spinner');\n",
              "          try {\n",
              "            const charts = await google.colab.kernel.invokeFunction(\n",
              "                'suggestCharts', [key], {});\n",
              "          } catch (error) {\n",
              "            console.error('Error during call to suggestCharts:', error);\n",
              "          }\n",
              "          quickchartButtonEl.classList.remove('colab-df-spinner');\n",
              "          quickchartButtonEl.classList.add('colab-df-quickchart-complete');\n",
              "        }\n",
              "        (() => {\n",
              "          let quickchartButtonEl =\n",
              "            document.querySelector('#df-fba45a36-90b7-47ae-85c7-89cb5fc6078d button');\n",
              "          quickchartButtonEl.style.display =\n",
              "            google.colab.kernel.accessAllowed ? 'block' : 'none';\n",
              "        })();\n",
              "      </script>\n",
              "    </div>\n",
              "    </div>\n",
              "  </div>\n"
            ],
            "application/vnd.google.colaboratory.intrinsic+json": {
              "type": "dataframe",
              "variable_name": "df_new",
              "summary": "{\n  \"name\": \"df_new\",\n  \"rows\": 10,\n  \"fields\": [\n    {\n      \"column\": \"question\",\n      \"properties\": {\n        \"dtype\": \"string\",\n        \"num_unique_values\": 10,\n        \"samples\": [\n          \"Assess the benefits for Aldi  of sponsoring the UK Olympic team.\",\n          \"Construct a supply and demand diagram to show the impact of increasing publicity on the biodegradable packaging market.\",\n          \"Define the term \\u2018social trends\\u2019 . (Extract D, line 2)\"\n        ],\n        \"semantic_type\": \"\",\n        \"description\": \"\"\n      }\n    },\n    {\n      \"column\": \"target\",\n      \"properties\": {\n        \"dtype\": \"string\",\n        \"num_unique_values\": 5,\n        \"samples\": [\n          \"the market\",\n          \"marketing mix and strategy\",\n          \"entrepreneurs and leaders\"\n        ],\n        \"semantic_type\": \"\",\n        \"description\": \"\"\n      }\n    }\n  ]\n}"
            }
          },
          "metadata": {},
          "execution_count": 38
        }
      ]
    },
    {
      "cell_type": "code",
      "source": [
        "df_new.to_excel('new_questions_pred_bert.xlsx')"
      ],
      "metadata": {
        "id": "Nz68yB7GDghG"
      },
      "execution_count": 39,
      "outputs": []
    },
    {
      "cell_type": "code",
      "source": [
        "torch.save(model.state_dict(), \"bert_classifier.pth\")"
      ],
      "metadata": {
        "id": "Fs4kIFuDEszQ"
      },
      "execution_count": 40,
      "outputs": []
    }
  ]
}