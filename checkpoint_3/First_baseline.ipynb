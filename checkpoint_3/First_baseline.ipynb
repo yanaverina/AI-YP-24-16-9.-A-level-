{
 "cells": [
  {
   "cell_type": "code",
   "execution_count": 1,
   "id": "9d4ce421-04d8-4b6a-af46-592d3ad687a5",
   "metadata": {},
   "outputs": [],
   "source": [
    "import pandas as pd\n",
    "import numpy as np\n",
    "import matplotlib.pyplot as plt\n",
    "import string\n",
    "import warnings\n",
    "warnings.filterwarnings(\"ignore\")\n",
    "\n",
    "#NLTK\n",
    "from nltk.tokenize import RegexpTokenizer\n",
    "from nltk.corpus import stopwords\n",
    "from nltk.stem.snowball import SnowballStemmer\n",
    "from nltk.tokenize import word_tokenize\n",
    "from nltk.stem import WordNetLemmatizer\n",
    "\n",
    "\n",
    "from sklearn.model_selection import GridSearchCV\n",
    "from scipy.stats import uniform\n",
    "\n",
    "from sklearn.metrics import f1_score, auc, precision_recall_curve, average_precision_score\n",
    "from sklearn.metrics import auc\n",
    "from sklearn.preprocessing import StandardScaler\n",
    "from sklearn.model_selection import train_test_split,TimeSeriesSplit\n",
    "from sklearn.feature_extraction.text import CountVectorizer, TfidfVectorizer"
   ]
  },
  {
   "cell_type": "code",
   "execution_count": 2,
   "id": "67a95a72-3715-43cc-a43e-3fe4fe03e232",
   "metadata": {},
   "outputs": [],
   "source": [
    "from sklearn.model_selection import TimeSeriesSplit\n",
    "from sklearn.model_selection import RandomizedSearchCV\n",
    "from sklearn.linear_model import LogisticRegression\n",
    "from sklearn.metrics import roc_auc_score\n",
    "from sklearn.metrics import roc_curve\n",
    "from sklearn.metrics import precision_score\n",
    "from sklearn.metrics import recall_score\n",
    "from sklearn.metrics import auc\n",
    "from sklearn.metrics import confusion_matrix"
   ]
  },
  {
   "cell_type": "code",
   "execution_count": 3,
   "id": "5e96c50b-a93e-4ce4-b237-66a0554307a9",
   "metadata": {},
   "outputs": [],
   "source": [
    "questions= pd.read_csv('processed_data.csv')\n",
    "\n",
    "#добавим столбец длины вопросов в датасет\n",
    "questions['len_question'] = questions['question'].apply(lambda x: len(x))"
   ]
  },
  {
   "cell_type": "code",
   "execution_count": 4,
   "id": "bfe12083-2e34-4510-bd48-dc362491a8e8",
   "metadata": {},
   "outputs": [
    {
     "name": "stderr",
     "output_type": "stream",
     "text": [
      "[nltk_data] Downloading package stopwords to /home/yana/nltk_data...\n",
      "[nltk_data]   Package stopwords is already up-to-date!\n"
     ]
    }
   ],
   "source": [
    "import nltk\n",
    "nltk.download('stopwords')\n",
    "from nltk.corpus import stopwords\n",
    "stopwords = set(stopwords.words('english'))\n",
    "\n",
    "corpus=[]\n",
    "qst= questions['question'].str.split()\n",
    "qst=qst.values.tolist()\n",
    "corpus=[word for i in qst for word in i]\n",
    "\n",
    "from collections import defaultdict\n",
    "dic_stop_words={}\n",
    "for word in corpus:\n",
    "    if str(word).lower() in stopwords:\n",
    "        if word in dic_stop_words: dic_stop_words[word]+=1\n",
    "        else: dic_stop_words[word]=1\n",
    "\n",
    "questions['qst_words'] = questions.question.apply(lambda x: x.split())\n",
    "words_clean_all = list()\n",
    "for words in questions.qst_words:\n",
    "    words_clen = list()\n",
    "    for w in words:\n",
    "        if w.lower() not in dic_stop_words:\n",
    "            words_clen.append(w.lower())\n",
    "        words_clean_str = ' '.join(words_clen)\n",
    "    words_clean_all.append(words_clean_str)\n",
    "\n",
    "questions['qst_clean'] = words_clean_all\n",
    "questions['len_qst_cln'] = questions['qst_clean'].apply(lambda x: len(x))"
   ]
  },
  {
   "cell_type": "code",
   "execution_count": 5,
   "id": "a2994d73-d421-46cc-bfae-d9c87f9d10c9",
   "metadata": {},
   "outputs": [],
   "source": [
    "questions['year'] = questions['file'].apply(lambda row: int(row[-8:-4:]))"
   ]
  },
  {
   "cell_type": "code",
   "execution_count": 6,
   "id": "a5d6a2b1-094c-4e34-ad79-a6773179c0f6",
   "metadata": {},
   "outputs": [],
   "source": [
    "questions['qst_tokenised'] = questions['qst_clean'].apply(lambda x: word_tokenize(x))"
   ]
  },
  {
   "cell_type": "code",
   "execution_count": 7,
   "id": "46c555d4-66f1-4a8e-9f1a-ce2f5d105411",
   "metadata": {},
   "outputs": [],
   "source": [
    "def remove_punctuation(text):\n",
    "    return [token for token in text if token not in string.punctuation and token not in ('‘', '’')]\n",
    "\n",
    "questions['tokens_without_punctuationa'] = questions['qst_tokenised'].apply(remove_punctuation)"
   ]
  },
  {
   "cell_type": "code",
   "execution_count": 8,
   "id": "743ebcbe-188a-406d-bf21-5fe7622f97b2",
   "metadata": {},
   "outputs": [
    {
     "data": {
      "text/html": [
       "<div>\n",
       "<style scoped>\n",
       "    .dataframe tbody tr th:only-of-type {\n",
       "        vertical-align: middle;\n",
       "    }\n",
       "\n",
       "    .dataframe tbody tr th {\n",
       "        vertical-align: top;\n",
       "    }\n",
       "\n",
       "    .dataframe thead th {\n",
       "        text-align: right;\n",
       "    }\n",
       "</style>\n",
       "<table border=\"1\" class=\"dataframe\">\n",
       "  <thead>\n",
       "    <tr style=\"text-align: right;\">\n",
       "      <th></th>\n",
       "      <th>file</th>\n",
       "      <th>page</th>\n",
       "      <th>question</th>\n",
       "      <th>score</th>\n",
       "      <th>target</th>\n",
       "      <th>len_question</th>\n",
       "      <th>qst_words</th>\n",
       "      <th>qst_clean</th>\n",
       "      <th>len_qst_cln</th>\n",
       "      <th>year</th>\n",
       "      <th>qst_tokenised</th>\n",
       "      <th>tokens_without_punctuationa</th>\n",
       "    </tr>\n",
       "  </thead>\n",
       "  <tbody>\n",
       "    <tr>\n",
       "      <th>0</th>\n",
       "      <td>Question Paper - Unit 1 (WBS11) - January 2021...</td>\n",
       "      <td>2</td>\n",
       "      <td>Define the term ‘brand’ .</td>\n",
       "      <td>2</td>\n",
       "      <td>marketing mix and strategy</td>\n",
       "      <td>25</td>\n",
       "      <td>[Define, the, term, ‘brand’, .]</td>\n",
       "      <td>define term ‘brand’ .</td>\n",
       "      <td>21</td>\n",
       "      <td>2021</td>\n",
       "      <td>[define, term, ‘, brand, ’, .]</td>\n",
       "      <td>[define, term, brand]</td>\n",
       "    </tr>\n",
       "    <tr>\n",
       "      <th>1</th>\n",
       "      <td>Question Paper - Unit 1 (WBS11) - January 2021...</td>\n",
       "      <td>2</td>\n",
       "      <td>Explain one risk Jack Ma may have taken when s...</td>\n",
       "      <td>4</td>\n",
       "      <td>entrepreneurs and leaders</td>\n",
       "      <td>74</td>\n",
       "      <td>[Explain, one, risk, Jack, Ma, may, have, take...</td>\n",
       "      <td>explain one risk jack ma may taken setting ali...</td>\n",
       "      <td>57</td>\n",
       "      <td>2021</td>\n",
       "      <td>[explain, one, risk, jack, ma, may, taken, set...</td>\n",
       "      <td>[explain, one, risk, jack, ma, may, taken, set...</td>\n",
       "    </tr>\n",
       "    <tr>\n",
       "      <th>2</th>\n",
       "      <td>Question Paper - Unit 1 (WBS11) - January 2021...</td>\n",
       "      <td>3</td>\n",
       "      <td>Analyse two factors that may have increased de...</td>\n",
       "      <td>6</td>\n",
       "      <td>the market</td>\n",
       "      <td>73</td>\n",
       "      <td>[Analyse, two, factors, that, may, have, incre...</td>\n",
       "      <td>analyse two factors may increased demand aliba...</td>\n",
       "      <td>55</td>\n",
       "      <td>2021</td>\n",
       "      <td>[analyse, two, factors, may, increased, demand...</td>\n",
       "      <td>[analyse, two, factors, may, increased, demand...</td>\n",
       "    </tr>\n",
       "    <tr>\n",
       "      <th>3</th>\n",
       "      <td>Question Paper - Unit 1 (WBS11) - January 2021...</td>\n",
       "      <td>4</td>\n",
       "      <td>Discuss if profit maximisation is the main bus...</td>\n",
       "      <td>8</td>\n",
       "      <td>entrepreneurs and leaders</td>\n",
       "      <td>83</td>\n",
       "      <td>[Discuss, if, profit, maximisation, is, the, m...</td>\n",
       "      <td>discuss profit maximisation main business obje...</td>\n",
       "      <td>66</td>\n",
       "      <td>2021</td>\n",
       "      <td>[discuss, profit, maximisation, main, business...</td>\n",
       "      <td>[discuss, profit, maximisation, main, business...</td>\n",
       "    </tr>\n",
       "    <tr>\n",
       "      <th>4</th>\n",
       "      <td>Question Paper - Unit 1 (WBS11) - January 2021...</td>\n",
       "      <td>5</td>\n",
       "      <td>Assess the advantages of a paternalistic style...</td>\n",
       "      <td>10</td>\n",
       "      <td>managing people</td>\n",
       "      <td>102</td>\n",
       "      <td>[Assess, the, advantages, of, a, paternalistic...</td>\n",
       "      <td>assess advantages paternalistic style leadersh...</td>\n",
       "      <td>72</td>\n",
       "      <td>2021</td>\n",
       "      <td>[assess, advantages, paternalistic, style, lea...</td>\n",
       "      <td>[assess, advantages, paternalistic, style, lea...</td>\n",
       "    </tr>\n",
       "  </tbody>\n",
       "</table>\n",
       "</div>"
      ],
      "text/plain": [
       "                                                file  page  \\\n",
       "0  Question Paper - Unit 1 (WBS11) - January 2021...     2   \n",
       "1  Question Paper - Unit 1 (WBS11) - January 2021...     2   \n",
       "2  Question Paper - Unit 1 (WBS11) - January 2021...     3   \n",
       "3  Question Paper - Unit 1 (WBS11) - January 2021...     4   \n",
       "4  Question Paper - Unit 1 (WBS11) - January 2021...     5   \n",
       "\n",
       "                                            question  score  \\\n",
       "0                          Define the term ‘brand’ .      2   \n",
       "1  Explain one risk Jack Ma may have taken when s...      4   \n",
       "2  Analyse two factors that may have increased de...      6   \n",
       "3  Discuss if profit maximisation is the main bus...      8   \n",
       "4  Assess the advantages of a paternalistic style...     10   \n",
       "\n",
       "                       target  len_question  \\\n",
       "0  marketing mix and strategy            25   \n",
       "1   entrepreneurs and leaders            74   \n",
       "2                  the market            73   \n",
       "3   entrepreneurs and leaders            83   \n",
       "4             managing people           102   \n",
       "\n",
       "                                           qst_words  \\\n",
       "0                    [Define, the, term, ‘brand’, .]   \n",
       "1  [Explain, one, risk, Jack, Ma, may, have, take...   \n",
       "2  [Analyse, two, factors, that, may, have, incre...   \n",
       "3  [Discuss, if, profit, maximisation, is, the, m...   \n",
       "4  [Assess, the, advantages, of, a, paternalistic...   \n",
       "\n",
       "                                           qst_clean  len_qst_cln  year  \\\n",
       "0                              define term ‘brand’ .           21  2021   \n",
       "1  explain one risk jack ma may taken setting ali...           57  2021   \n",
       "2  analyse two factors may increased demand aliba...           55  2021   \n",
       "3  discuss profit maximisation main business obje...           66  2021   \n",
       "4  assess advantages paternalistic style leadersh...           72  2021   \n",
       "\n",
       "                                       qst_tokenised  \\\n",
       "0                     [define, term, ‘, brand, ’, .]   \n",
       "1  [explain, one, risk, jack, ma, may, taken, set...   \n",
       "2  [analyse, two, factors, may, increased, demand...   \n",
       "3  [discuss, profit, maximisation, main, business...   \n",
       "4  [assess, advantages, paternalistic, style, lea...   \n",
       "\n",
       "                         tokens_without_punctuationa  \n",
       "0                              [define, term, brand]  \n",
       "1  [explain, one, risk, jack, ma, may, taken, set...  \n",
       "2  [analyse, two, factors, may, increased, demand...  \n",
       "3  [discuss, profit, maximisation, main, business...  \n",
       "4  [assess, advantages, paternalistic, style, lea...  "
      ]
     },
     "execution_count": 8,
     "metadata": {},
     "output_type": "execute_result"
    }
   ],
   "source": [
    "questions.head()"
   ]
  },
  {
   "cell_type": "code",
   "execution_count": 9,
   "id": "5fe82ccf-f01e-43d9-a2ed-b5db4ea8a7af",
   "metadata": {},
   "outputs": [],
   "source": [
    "lem = WordNetLemmatizer()\n",
    "\n",
    "def lemmatize(text):\n",
    "    lem = WordNetLemmatizer()\n",
    "    lemmatized_text = text\n",
    "\n",
    "    for part_of_speech in ['n', 'v', 'a', 'r', 's']:\n",
    "        lemmatized_text = [lem.lemmatize(token, part_of_speech).lower() for token in lemmatized_text]\n",
    "    return lemmatized_text\n",
    "\n",
    "questions['tokens_lemm'] = questions['tokens_without_punctuationa'].apply(lemmatize)\n",
    "questions['tokens_lst'] = questions['tokens_without_punctuationa'].apply(lambda x: ' '.join(x))"
   ]
  },
  {
   "cell_type": "code",
   "execution_count": 10,
   "id": "44713ac8-49b0-4976-ba54-a20b18a314be",
   "metadata": {},
   "outputs": [
    {
     "data": {
      "text/plain": [
       "array(['marketing mix and strategy', 'entrepreneurs and leaders',\n",
       "       'the market', 'managing people', 'meeting customer needs',\n",
       "       'unit 2', '?'], dtype=object)"
      ]
     },
     "execution_count": 10,
     "metadata": {},
     "output_type": "execute_result"
    }
   ],
   "source": [
    "questions['target'].unique()"
   ]
  },
  {
   "cell_type": "code",
   "execution_count": 11,
   "id": "a871e59d-1da7-4ed4-a842-192909171e8d",
   "metadata": {},
   "outputs": [],
   "source": [
    "def target_to_int(target):\n",
    "    if target == 'marketing mix and strategy':\n",
    "        return 1\n",
    "    elif target == 'entrepreneurs and leaders':\n",
    "        return 2\n",
    "    elif target == 'the market':\n",
    "        return 3\n",
    "    elif target == 'managing people':\n",
    "        return 4\n",
    "    elif target == 'meeting customer needs':\n",
    "        return 5\n",
    "    else:\n",
    "        return 6"
   ]
  },
  {
   "cell_type": "code",
   "execution_count": 12,
   "id": "e1ed1c9a-c025-489e-a874-7953ca76b752",
   "metadata": {},
   "outputs": [
    {
     "data": {
      "text/html": [
       "<div>\n",
       "<style scoped>\n",
       "    .dataframe tbody tr th:only-of-type {\n",
       "        vertical-align: middle;\n",
       "    }\n",
       "\n",
       "    .dataframe tbody tr th {\n",
       "        vertical-align: top;\n",
       "    }\n",
       "\n",
       "    .dataframe thead th {\n",
       "        text-align: right;\n",
       "    }\n",
       "</style>\n",
       "<table border=\"1\" class=\"dataframe\">\n",
       "  <thead>\n",
       "    <tr style=\"text-align: right;\">\n",
       "      <th></th>\n",
       "      <th>file</th>\n",
       "      <th>page</th>\n",
       "      <th>question</th>\n",
       "      <th>score</th>\n",
       "      <th>target</th>\n",
       "      <th>len_question</th>\n",
       "      <th>qst_words</th>\n",
       "      <th>qst_clean</th>\n",
       "      <th>len_qst_cln</th>\n",
       "      <th>year</th>\n",
       "      <th>qst_tokenised</th>\n",
       "      <th>tokens_without_punctuationa</th>\n",
       "      <th>tokens_lemm</th>\n",
       "      <th>tokens_lst</th>\n",
       "      <th>target_code</th>\n",
       "    </tr>\n",
       "  </thead>\n",
       "  <tbody>\n",
       "    <tr>\n",
       "      <th>0</th>\n",
       "      <td>Question Paper - Unit 1 (WBS11) - January 2021...</td>\n",
       "      <td>2</td>\n",
       "      <td>Define the term ‘brand’ .</td>\n",
       "      <td>2</td>\n",
       "      <td>marketing mix and strategy</td>\n",
       "      <td>25</td>\n",
       "      <td>[Define, the, term, ‘brand’, .]</td>\n",
       "      <td>define term ‘brand’ .</td>\n",
       "      <td>21</td>\n",
       "      <td>2021</td>\n",
       "      <td>[define, term, ‘, brand, ’, .]</td>\n",
       "      <td>[define, term, brand]</td>\n",
       "      <td>[define, term, brand]</td>\n",
       "      <td>define term brand</td>\n",
       "      <td>1</td>\n",
       "    </tr>\n",
       "    <tr>\n",
       "      <th>1</th>\n",
       "      <td>Question Paper - Unit 1 (WBS11) - January 2021...</td>\n",
       "      <td>2</td>\n",
       "      <td>Explain one risk Jack Ma may have taken when s...</td>\n",
       "      <td>4</td>\n",
       "      <td>entrepreneurs and leaders</td>\n",
       "      <td>74</td>\n",
       "      <td>[Explain, one, risk, Jack, Ma, may, have, take...</td>\n",
       "      <td>explain one risk jack ma may taken setting ali...</td>\n",
       "      <td>57</td>\n",
       "      <td>2021</td>\n",
       "      <td>[explain, one, risk, jack, ma, may, taken, set...</td>\n",
       "      <td>[explain, one, risk, jack, ma, may, taken, set...</td>\n",
       "      <td>[explain, one, risk, jack, ma, may, take, set,...</td>\n",
       "      <td>explain one risk jack ma may taken setting ali...</td>\n",
       "      <td>2</td>\n",
       "    </tr>\n",
       "    <tr>\n",
       "      <th>2</th>\n",
       "      <td>Question Paper - Unit 1 (WBS11) - January 2021...</td>\n",
       "      <td>3</td>\n",
       "      <td>Analyse two factors that may have increased de...</td>\n",
       "      <td>6</td>\n",
       "      <td>the market</td>\n",
       "      <td>73</td>\n",
       "      <td>[Analyse, two, factors, that, may, have, incre...</td>\n",
       "      <td>analyse two factors may increased demand aliba...</td>\n",
       "      <td>55</td>\n",
       "      <td>2021</td>\n",
       "      <td>[analyse, two, factors, may, increased, demand...</td>\n",
       "      <td>[analyse, two, factors, may, increased, demand...</td>\n",
       "      <td>[analyse, two, factor, may, increase, demand, ...</td>\n",
       "      <td>analyse two factors may increased demand aliba...</td>\n",
       "      <td>3</td>\n",
       "    </tr>\n",
       "    <tr>\n",
       "      <th>3</th>\n",
       "      <td>Question Paper - Unit 1 (WBS11) - January 2021...</td>\n",
       "      <td>4</td>\n",
       "      <td>Discuss if profit maximisation is the main bus...</td>\n",
       "      <td>8</td>\n",
       "      <td>entrepreneurs and leaders</td>\n",
       "      <td>83</td>\n",
       "      <td>[Discuss, if, profit, maximisation, is, the, m...</td>\n",
       "      <td>discuss profit maximisation main business obje...</td>\n",
       "      <td>66</td>\n",
       "      <td>2021</td>\n",
       "      <td>[discuss, profit, maximisation, main, business...</td>\n",
       "      <td>[discuss, profit, maximisation, main, business...</td>\n",
       "      <td>[discus, profit, maximisation, main, business,...</td>\n",
       "      <td>discuss profit maximisation main business obje...</td>\n",
       "      <td>2</td>\n",
       "    </tr>\n",
       "    <tr>\n",
       "      <th>4</th>\n",
       "      <td>Question Paper - Unit 1 (WBS11) - January 2021...</td>\n",
       "      <td>5</td>\n",
       "      <td>Assess the advantages of a paternalistic style...</td>\n",
       "      <td>10</td>\n",
       "      <td>managing people</td>\n",
       "      <td>102</td>\n",
       "      <td>[Assess, the, advantages, of, a, paternalistic...</td>\n",
       "      <td>assess advantages paternalistic style leadersh...</td>\n",
       "      <td>72</td>\n",
       "      <td>2021</td>\n",
       "      <td>[assess, advantages, paternalistic, style, lea...</td>\n",
       "      <td>[assess, advantages, paternalistic, style, lea...</td>\n",
       "      <td>[assess, advantage, paternalistic, style, lead...</td>\n",
       "      <td>assess advantages paternalistic style leadersh...</td>\n",
       "      <td>4</td>\n",
       "    </tr>\n",
       "  </tbody>\n",
       "</table>\n",
       "</div>"
      ],
      "text/plain": [
       "                                                file  page  \\\n",
       "0  Question Paper - Unit 1 (WBS11) - January 2021...     2   \n",
       "1  Question Paper - Unit 1 (WBS11) - January 2021...     2   \n",
       "2  Question Paper - Unit 1 (WBS11) - January 2021...     3   \n",
       "3  Question Paper - Unit 1 (WBS11) - January 2021...     4   \n",
       "4  Question Paper - Unit 1 (WBS11) - January 2021...     5   \n",
       "\n",
       "                                            question  score  \\\n",
       "0                          Define the term ‘brand’ .      2   \n",
       "1  Explain one risk Jack Ma may have taken when s...      4   \n",
       "2  Analyse two factors that may have increased de...      6   \n",
       "3  Discuss if profit maximisation is the main bus...      8   \n",
       "4  Assess the advantages of a paternalistic style...     10   \n",
       "\n",
       "                       target  len_question  \\\n",
       "0  marketing mix and strategy            25   \n",
       "1   entrepreneurs and leaders            74   \n",
       "2                  the market            73   \n",
       "3   entrepreneurs and leaders            83   \n",
       "4             managing people           102   \n",
       "\n",
       "                                           qst_words  \\\n",
       "0                    [Define, the, term, ‘brand’, .]   \n",
       "1  [Explain, one, risk, Jack, Ma, may, have, take...   \n",
       "2  [Analyse, two, factors, that, may, have, incre...   \n",
       "3  [Discuss, if, profit, maximisation, is, the, m...   \n",
       "4  [Assess, the, advantages, of, a, paternalistic...   \n",
       "\n",
       "                                           qst_clean  len_qst_cln  year  \\\n",
       "0                              define term ‘brand’ .           21  2021   \n",
       "1  explain one risk jack ma may taken setting ali...           57  2021   \n",
       "2  analyse two factors may increased demand aliba...           55  2021   \n",
       "3  discuss profit maximisation main business obje...           66  2021   \n",
       "4  assess advantages paternalistic style leadersh...           72  2021   \n",
       "\n",
       "                                       qst_tokenised  \\\n",
       "0                     [define, term, ‘, brand, ’, .]   \n",
       "1  [explain, one, risk, jack, ma, may, taken, set...   \n",
       "2  [analyse, two, factors, may, increased, demand...   \n",
       "3  [discuss, profit, maximisation, main, business...   \n",
       "4  [assess, advantages, paternalistic, style, lea...   \n",
       "\n",
       "                         tokens_without_punctuationa  \\\n",
       "0                              [define, term, brand]   \n",
       "1  [explain, one, risk, jack, ma, may, taken, set...   \n",
       "2  [analyse, two, factors, may, increased, demand...   \n",
       "3  [discuss, profit, maximisation, main, business...   \n",
       "4  [assess, advantages, paternalistic, style, lea...   \n",
       "\n",
       "                                         tokens_lemm  \\\n",
       "0                              [define, term, brand]   \n",
       "1  [explain, one, risk, jack, ma, may, take, set,...   \n",
       "2  [analyse, two, factor, may, increase, demand, ...   \n",
       "3  [discus, profit, maximisation, main, business,...   \n",
       "4  [assess, advantage, paternalistic, style, lead...   \n",
       "\n",
       "                                          tokens_lst  target_code  \n",
       "0                                  define term brand            1  \n",
       "1  explain one risk jack ma may taken setting ali...            2  \n",
       "2  analyse two factors may increased demand aliba...            3  \n",
       "3  discuss profit maximisation main business obje...            2  \n",
       "4  assess advantages paternalistic style leadersh...            4  "
      ]
     },
     "execution_count": 12,
     "metadata": {},
     "output_type": "execute_result"
    }
   ],
   "source": [
    "questions['target_code'] = questions['target'].apply(target_to_int)\n",
    "questions.head()"
   ]
  },
  {
   "cell_type": "code",
   "execution_count": 13,
   "id": "5f046fa4-6878-46d2-a07b-a1742c0679fb",
   "metadata": {},
   "outputs": [],
   "source": [
    "questions = questions[questions.target_code < 6]"
   ]
  },
  {
   "cell_type": "code",
   "execution_count": 14,
   "id": "132113f3-c5b4-459c-a5d7-d5c2ad62b703",
   "metadata": {},
   "outputs": [
    {
     "data": {
      "text/plain": [
       "array([1, 2, 3, 4, 5])"
      ]
     },
     "execution_count": 14,
     "metadata": {},
     "output_type": "execute_result"
    }
   ],
   "source": [
    "questions['target_code'].unique()"
   ]
  },
  {
   "cell_type": "markdown",
   "id": "e5489d86-17ab-47cb-b130-e9c83f50874a",
   "metadata": {},
   "source": [
    "Разделим выборки на обучение и тест"
   ]
  },
  {
   "cell_type": "code",
   "execution_count": 15,
   "id": "b635727e-2792-481b-89f3-0982f437d857",
   "metadata": {},
   "outputs": [],
   "source": [
    "X_questions = questions['tokens_lst']\n",
    "y = questions['target_code']"
   ]
  },
  {
   "cell_type": "markdown",
   "id": "8c351068-054f-4dec-b920-420a6270e1d2",
   "metadata": {},
   "source": [
    "BOW of trigrams"
   ]
  },
  {
   "cell_type": "code",
   "execution_count": 17,
   "id": "eabb65ed-7949-434b-97fb-fb0705f0acda",
   "metadata": {},
   "outputs": [],
   "source": [
    "word_vectorizer = TfidfVectorizer(analyzer='word', token_pattern=r'\\w{1,}', sublinear_tf=True, strip_accents='unicode',\n",
    "                                  stop_words='english', ngram_range=(1, 1), max_features=10000)\n",
    "word_vectorizer.fit(X_questions)\n",
    "\n",
    "train_word_features = word_vectorizer.transform(X_questions)"
   ]
  },
  {
   "cell_type": "code",
   "execution_count": 18,
   "id": "87e30d55-298b-4eaf-9b89-da413351bc79",
   "metadata": {},
   "outputs": [],
   "source": [
    "char_vectorizer = TfidfVectorizer(analyzer='char', sublinear_tf=True, strip_accents='unicode',\n",
    "                                  stop_words='english', ngram_range=(1, 3), max_features=50000)\n",
    "char_vectorizer.fit(X_questions)\n",
    "\n",
    "train_char_features = char_vectorizer.transform(X_questions)"
   ]
  },
  {
   "cell_type": "code",
   "execution_count": 19,
   "id": "a45585ed-7fa4-473a-bd15-b28a39fb127b",
   "metadata": {},
   "outputs": [],
   "source": [
    "from scipy.sparse import hstack\n",
    "\n",
    "train_features = hstack([train_word_features, train_char_features])"
   ]
  },
  {
   "cell_type": "code",
   "execution_count": 20,
   "id": "11809883-1c8c-4443-90db-7731fb268819",
   "metadata": {},
   "outputs": [],
   "source": [
    "import pandas as pd\n",
    "from sklearn.feature_extraction.text import TfidfVectorizer, CountVectorizer\n",
    "from sklearn.model_selection import train_test_split, GridSearchCV\n",
    "from sklearn.linear_model import LogisticRegression\n",
    "from sklearn.metrics import classification_report, confusion_matrix, accuracy_score, roc_auc_score\n",
    "\n",
    "from time import time"
   ]
  },
  {
   "cell_type": "code",
   "execution_count": 23,
   "id": "b1cfb311-9c75-41da-b31a-197dfef39dd3",
   "metadata": {},
   "outputs": [
    {
     "name": "stdout",
     "output_type": "stream",
     "text": [
      "Train Data Size:  (168, 3081)\n",
      "Test Data Size:  (73, 3081)\n",
      "Train Data Size:  (168,)\n",
      "Test Data Size:  (73,)\n"
     ]
    }
   ],
   "source": [
    "X_train, X_test, y_train, y_test = train_test_split(train_features, y,test_size=0.3 ,random_state=42)\n",
    "\n",
    "print(\"Train Data Size: \",X_train.shape)\n",
    "print(\"Test Data Size: \",X_test.shape)\n",
    "\n",
    "print(\"Train Data Size: \",y_train.shape)\n",
    "print(\"Test Data Size: \",y_test.shape)"
   ]
  },
  {
   "cell_type": "code",
   "execution_count": 24,
   "id": "d5c6e214-d26d-48f4-bb9a-2bd65247b2e8",
   "metadata": {},
   "outputs": [
    {
     "name": "stdout",
     "output_type": "stream",
     "text": [
      "GridSearch took 12096.86 seconds to complete.\n"
     ]
    },
    {
     "data": {
      "text/plain": [
       "{'C': 10, 'penalty': 'l2', 'solver': 'saga'}"
      ]
     },
     "metadata": {},
     "output_type": "display_data"
    },
    {
     "name": "stdout",
     "output_type": "stream",
     "text": [
      "Cross-Validated Score of the Best Estimator: 0.774\n"
     ]
    }
   ],
   "source": [
    "lr_model = LogisticRegression(random_state=42)\n",
    "param_dict = {'C': [0.001, 0.01, 0.1, 1, 10],\n",
    "             'solver': ['sag', 'lbfgs', 'saga'],\n",
    "             'penalty':['l1','l2']}\n",
    "\n",
    "start = time()\n",
    "grid_search = GridSearchCV(lr_model, param_dict)\n",
    "grid_search.fit(X_train, y_train)\n",
    "print(\"GridSearch took %.2f seconds to complete.\" % (time()-start))\n",
    "display(grid_search.best_params_)\n",
    "print(\"Cross-Validated Score of the Best Estimator: %.3f\" % grid_search.best_score_)"
   ]
  },
  {
   "cell_type": "markdown",
   "id": "915eb69d-a242-44f7-bcc8-86cfc2ed8942",
   "metadata": {},
   "source": [
    "РАСПИСАТЬ ПАРАМЕТРЫ\n",
    "\n",
    "Наилучшее качество при параметрах {'C': 10, 'penalty': 'l2', 'solver': 'saga'}\n",
    "\n",
    "solver = saga "
   ]
  },
  {
   "cell_type": "code",
   "execution_count": 156,
   "id": "c77e89b6-7baf-4a76-8f2d-2a9756598b72",
   "metadata": {},
   "outputs": [
    {
     "name": "stdout",
     "output_type": "stream",
     "text": [
      "              precision    recall  f1-score   support\n",
      "\n",
      "           1       0.74      0.77      0.76        22\n",
      "           2       1.00      0.50      0.67         6\n",
      "           3       1.00      0.75      0.86         8\n",
      "           4       0.75      0.38      0.50         8\n",
      "           5       0.70      0.90      0.79        29\n",
      "\n",
      "    accuracy                           0.75        73\n",
      "   macro avg       0.84      0.66      0.71        73\n",
      "weighted avg       0.78      0.75      0.74        73\n",
      "\n",
      "Accuracy Score: 0.753\n"
     ]
    }
   ],
   "source": [
    "lr=LogisticRegression(C=10, solver='saga', penalty='l2')\n",
    "lr.fit(X_train, y_train)\n",
    "lr_preds=lr.predict(X_test)\n",
    "\n",
    "print(classification_report(y_test, lr_preds))\n",
    "print(\"Accuracy Score: %.3f\" % accuracy_score(y_test, lr_preds))"
   ]
  },
  {
   "cell_type": "markdown",
   "id": "6645853f-597c-47a9-bff6-2cc75e549d07",
   "metadata": {},
   "source": [
    "Наилучшее каечство f1-меры - 0,86 для предсказания 3 класса"
   ]
  },
  {
   "cell_type": "code",
   "execution_count": 172,
   "id": "5955988c-5d9d-4f9a-ac54-3cbadebac121",
   "metadata": {},
   "outputs": [],
   "source": [
    "from sklearn.metrics import auc, roc_curve, average_precision_score"
   ]
  },
  {
   "cell_type": "code",
   "execution_count": 189,
   "id": "348c535d-54b3-463f-be11-912c21f86deb",
   "metadata": {},
   "outputs": [
    {
     "data": {
      "text/plain": [
       "np.float64(0.2580759692353411)"
      ]
     },
     "execution_count": 189,
     "metadata": {},
     "output_type": "execute_result"
    }
   ],
   "source": [
    "lr_preds_reshaped = lr_preds.reshape(-1, 1)\n",
    "average_precision_score(y_test, lr_preds_reshaped)"
   ]
  },
  {
   "cell_type": "code",
   "execution_count": 193,
   "id": "b00acf8a-f33e-45e7-bff6-19c14750fa62",
   "metadata": {},
   "outputs": [],
   "source": [
    "fpr = {}\n",
    "tpr = {}\n",
    "thresh = {}\n",
    "\n",
    "for i in range(1,6):    \n",
    "    fpr[i], tpr[i], thresh[i] = roc_curve(y_test, lr_preds, pos_label=i)"
   ]
  },
  {
   "cell_type": "code",
   "execution_count": 194,
   "id": "5a1d7a8d-6422-4e6b-8a8c-5738097f2bcb",
   "metadata": {},
   "outputs": [
    {
     "name": "stdout",
     "output_type": "stream",
     "text": [
      "0.18315508021390375\n",
      "0.43781094527363185\n",
      "0.4826923076923077\n",
      "0.4932692307692308\n",
      "0.8079937304075235\n"
     ]
    }
   ],
   "source": [
    "for i in range(1,6):\n",
    "    print(auc(fpr[i], tpr[i]))"
   ]
  },
  {
   "cell_type": "code",
   "execution_count": 195,
   "id": "debe45ae-63de-49bf-b18a-997e0a550948",
   "metadata": {},
   "outputs": [
    {
     "data": {
      "image/png": "[encoded data removed]",
      "text/plain": [
       "<Figure size 640x480 with 1 Axes>"
      ]
     },
     "metadata": {},
     "output_type": "display_data"
    }
   ],
   "source": [
    "plt.plot(fpr[1], tpr[1], linestyle='--',color='green', label='Class 1')\n",
    "plt.plot(fpr[2], tpr[2], linestyle='--',color='grey', label='Class 2')\n",
    "plt.plot(fpr[3], tpr[3], linestyle='--',color='red', label='Class 3')\n",
    "plt.plot(fpr[4], tpr[4], linestyle='--',color='pink', label='Class 4')\n",
    "plt.plot(fpr[5], tpr[5], linestyle='--',color='orange', label='Class 5')\n",
    "\n",
    "plt.title('ROC curve')\n",
    "plt.xlabel('False Positive Rate')\n",
    "plt.ylabel('True Positive rate')\n",
    "\n",
    "plt.legend(loc='best')\n",
    "plt.savefig('ROC',dpi=300)\n",
    "plt.show();"
   ]
  },
  {
   "cell_type": "markdown",
   "id": "747fd11a-10d7-423b-ad8c-7e07c74d2695",
   "metadata": {},
   "source": [
    "SVC"
   ]
  },
  {
   "cell_type": "code",
   "execution_count": 198,
   "id": "4757842b-d646-42d5-b46f-047cf59bc90a",
   "metadata": {},
   "outputs": [
    {
     "name": "stdout",
     "output_type": "stream",
     "text": [
      "              precision    recall  f1-score   support\n",
      "\n",
      "           1       1.00      0.32      0.48        22\n",
      "           2       0.00      0.00      0.00         6\n",
      "           3       1.00      0.62      0.77         8\n",
      "           4       1.00      0.12      0.22         8\n",
      "           5       0.48      1.00      0.65        29\n",
      "\n",
      "    accuracy                           0.58        73\n",
      "   macro avg       0.70      0.41      0.43        73\n",
      "weighted avg       0.71      0.58      0.51        73\n",
      "\n",
      "Accuracy Score: 0.575\n"
     ]
    }
   ],
   "source": [
    "from sklearn.svm import SVC \n",
    "svc = SVC() \n",
    "svc.fit(X_train, y_train) \n",
    "svc_preds=svc.predict(X_test)\n",
    "\n",
    "print(classification_report(y_test, svc_preds))\n",
    "print(\"Accuracy Score: %.3f\" % accuracy_score(y_test, svc_preds))"
   ]
  },
  {
   "cell_type": "code",
   "execution_count": 199,
   "id": "313b83ee-5f2d-408c-8a63-dace01a8a948",
   "metadata": {},
   "outputs": [
    {
     "name": "stdout",
     "output_type": "stream",
     "text": [
      "Fitting 5 folds for each of 25 candidates, totalling 125 fits\n",
      "[CV 1/5] END ........C=0.1, gamma=1, kernel=rbf;, score=0.382 total time=   0.1s\n",
      "[CV 2/5] END ........C=0.1, gamma=1, kernel=rbf;, score=0.382 total time=   0.0s\n",
      "[CV 3/5] END ........C=0.1, gamma=1, kernel=rbf;, score=0.382 total time=   0.0s\n",
      "[CV 4/5] END ........C=0.1, gamma=1, kernel=rbf;, score=0.394 total time=   0.0s\n",
      "[CV 5/5] END ........C=0.1, gamma=1, kernel=rbf;, score=0.394 total time=   0.0s\n",
      "[CV 1/5] END ......C=0.1, gamma=0.1, kernel=rbf;, score=0.382 total time=   0.0s\n",
      "[CV 2/5] END ......C=0.1, gamma=0.1, kernel=rbf;, score=0.382 total time=   0.0s\n",
      "[CV 3/5] END ......C=0.1, gamma=0.1, kernel=rbf;, score=0.382 total time=   0.0s\n",
      "[CV 4/5] END ......C=0.1, gamma=0.1, kernel=rbf;, score=0.394 total time=   0.0s\n",
      "[CV 5/5] END ......C=0.1, gamma=0.1, kernel=rbf;, score=0.394 total time=   0.0s\n",
      "[CV 1/5] END .....C=0.1, gamma=0.01, kernel=rbf;, score=0.382 total time=   0.0s\n",
      "[CV 2/5] END .....C=0.1, gamma=0.01, kernel=rbf;, score=0.382 total time=   0.0s\n",
      "[CV 3/5] END .....C=0.1, gamma=0.01, kernel=rbf;, score=0.382 total time=   0.0s\n",
      "[CV 4/5] END .....C=0.1, gamma=0.01, kernel=rbf;, score=0.394 total time=   0.0s\n",
      "[CV 5/5] END .....C=0.1, gamma=0.01, kernel=rbf;, score=0.394 total time=   0.0s\n",
      "[CV 1/5] END ....C=0.1, gamma=0.001, kernel=rbf;, score=0.382 total time=   0.0s\n",
      "[CV 2/5] END ....C=0.1, gamma=0.001, kernel=rbf;, score=0.382 total time=   0.0s\n",
      "[CV 3/5] END ....C=0.1, gamma=0.001, kernel=rbf;, score=0.382 total time=   0.0s\n",
      "[CV 4/5] END ....C=0.1, gamma=0.001, kernel=rbf;, score=0.394 total time=   0.0s\n",
      "[CV 5/5] END ....C=0.1, gamma=0.001, kernel=rbf;, score=0.394 total time=   0.0s\n",
      "[CV 1/5] END ...C=0.1, gamma=0.0001, kernel=rbf;, score=0.382 total time=   0.0s\n",
      "[CV 2/5] END ...C=0.1, gamma=0.0001, kernel=rbf;, score=0.382 total time=   0.0s\n",
      "[CV 3/5] END ...C=0.1, gamma=0.0001, kernel=rbf;, score=0.382 total time=   0.0s\n",
      "[CV 4/5] END ...C=0.1, gamma=0.0001, kernel=rbf;, score=0.394 total time=   0.0s\n",
      "[CV 5/5] END ...C=0.1, gamma=0.0001, kernel=rbf;, score=0.394 total time=   0.0s\n",
      "[CV 1/5] END ..........C=1, gamma=1, kernel=rbf;, score=0.412 total time=   0.0s\n",
      "[CV 2/5] END ..........C=1, gamma=1, kernel=rbf;, score=0.412 total time=   0.0s\n",
      "[CV 3/5] END ..........C=1, gamma=1, kernel=rbf;, score=0.382 total time=   0.0s\n",
      "[CV 4/5] END ..........C=1, gamma=1, kernel=rbf;, score=0.455 total time=   0.0s\n",
      "[CV 5/5] END ..........C=1, gamma=1, kernel=rbf;, score=0.485 total time=   0.0s\n",
      "[CV 1/5] END ........C=1, gamma=0.1, kernel=rbf;, score=0.382 total time=   0.0s\n",
      "[CV 2/5] END ........C=1, gamma=0.1, kernel=rbf;, score=0.382 total time=   0.0s\n",
      "[CV 3/5] END ........C=1, gamma=0.1, kernel=rbf;, score=0.382 total time=   0.0s\n",
      "[CV 4/5] END ........C=1, gamma=0.1, kernel=rbf;, score=0.394 total time=   0.0s\n",
      "[CV 5/5] END ........C=1, gamma=0.1, kernel=rbf;, score=0.455 total time=   0.0s\n",
      "[CV 1/5] END .......C=1, gamma=0.01, kernel=rbf;, score=0.382 total time=   0.0s\n",
      "[CV 2/5] END .......C=1, gamma=0.01, kernel=rbf;, score=0.382 total time=   0.0s\n",
      "[CV 3/5] END .......C=1, gamma=0.01, kernel=rbf;, score=0.382 total time=   0.0s\n",
      "[CV 4/5] END .......C=1, gamma=0.01, kernel=rbf;, score=0.394 total time=   0.0s\n",
      "[CV 5/5] END .......C=1, gamma=0.01, kernel=rbf;, score=0.394 total time=   0.0s\n",
      "[CV 1/5] END ......C=1, gamma=0.001, kernel=rbf;, score=0.382 total time=   0.0s\n",
      "[CV 2/5] END ......C=1, gamma=0.001, kernel=rbf;, score=0.382 total time=   0.0s\n",
      "[CV 3/5] END ......C=1, gamma=0.001, kernel=rbf;, score=0.382 total time=   0.0s\n",
      "[CV 4/5] END ......C=1, gamma=0.001, kernel=rbf;, score=0.394 total time=   0.0s\n",
      "[CV 5/5] END ......C=1, gamma=0.001, kernel=rbf;, score=0.394 total time=   0.0s\n",
      "[CV 1/5] END .....C=1, gamma=0.0001, kernel=rbf;, score=0.382 total time=   0.0s\n",
      "[CV 2/5] END .....C=1, gamma=0.0001, kernel=rbf;, score=0.382 total time=   0.0s\n",
      "[CV 3/5] END .....C=1, gamma=0.0001, kernel=rbf;, score=0.382 total time=   0.0s\n",
      "[CV 4/5] END .....C=1, gamma=0.0001, kernel=rbf;, score=0.394 total time=   0.0s\n",
      "[CV 5/5] END .....C=1, gamma=0.0001, kernel=rbf;, score=0.394 total time=   0.0s\n",
      "[CV 1/5] END .........C=10, gamma=1, kernel=rbf;, score=0.412 total time=   0.0s\n",
      "[CV 2/5] END .........C=10, gamma=1, kernel=rbf;, score=0.529 total time=   0.0s\n",
      "[CV 3/5] END .........C=10, gamma=1, kernel=rbf;, score=0.382 total time=   0.0s\n",
      "[CV 4/5] END .........C=10, gamma=1, kernel=rbf;, score=0.455 total time=   0.0s\n",
      "[CV 5/5] END .........C=10, gamma=1, kernel=rbf;, score=0.515 total time=   0.0s\n",
      "[CV 1/5] END .......C=10, gamma=0.1, kernel=rbf;, score=0.735 total time=   0.0s\n",
      "[CV 2/5] END .......C=10, gamma=0.1, kernel=rbf;, score=0.765 total time=   0.0s\n",
      "[CV 3/5] END .......C=10, gamma=0.1, kernel=rbf;, score=0.735 total time=   0.0s\n",
      "[CV 4/5] END .......C=10, gamma=0.1, kernel=rbf;, score=0.697 total time=   0.0s\n",
      "[CV 5/5] END .......C=10, gamma=0.1, kernel=rbf;, score=0.727 total time=   0.0s\n",
      "[CV 1/5] END ......C=10, gamma=0.01, kernel=rbf;, score=0.412 total time=   0.0s\n",
      "[CV 2/5] END ......C=10, gamma=0.01, kernel=rbf;, score=0.471 total time=   0.0s\n",
      "[CV 3/5] END ......C=10, gamma=0.01, kernel=rbf;, score=0.441 total time=   0.0s\n",
      "[CV 4/5] END ......C=10, gamma=0.01, kernel=rbf;, score=0.455 total time=   0.0s\n",
      "[CV 5/5] END ......C=10, gamma=0.01, kernel=rbf;, score=0.485 total time=   0.0s\n",
      "[CV 1/5] END .....C=10, gamma=0.001, kernel=rbf;, score=0.382 total time=   0.0s\n",
      "[CV 2/5] END .....C=10, gamma=0.001, kernel=rbf;, score=0.382 total time=   0.0s\n",
      "[CV 3/5] END .....C=10, gamma=0.001, kernel=rbf;, score=0.382 total time=   0.0s\n",
      "[CV 4/5] END .....C=10, gamma=0.001, kernel=rbf;, score=0.394 total time=   0.0s\n",
      "[CV 5/5] END .....C=10, gamma=0.001, kernel=rbf;, score=0.394 total time=   0.0s\n",
      "[CV 1/5] END ....C=10, gamma=0.0001, kernel=rbf;, score=0.382 total time=   0.0s\n",
      "[CV 2/5] END ....C=10, gamma=0.0001, kernel=rbf;, score=0.382 total time=   0.0s\n",
      "[CV 3/5] END ....C=10, gamma=0.0001, kernel=rbf;, score=0.382 total time=   0.0s\n",
      "[CV 4/5] END ....C=10, gamma=0.0001, kernel=rbf;, score=0.394 total time=   0.0s\n",
      "[CV 5/5] END ....C=10, gamma=0.0001, kernel=rbf;, score=0.394 total time=   0.0s\n",
      "[CV 1/5] END ........C=100, gamma=1, kernel=rbf;, score=0.412 total time=   0.0s\n",
      "[CV 2/5] END ........C=100, gamma=1, kernel=rbf;, score=0.529 total time=   0.0s\n",
      "[CV 3/5] END ........C=100, gamma=1, kernel=rbf;, score=0.382 total time=   0.0s\n",
      "[CV 4/5] END ........C=100, gamma=1, kernel=rbf;, score=0.455 total time=   0.0s\n",
      "[CV 5/5] END ........C=100, gamma=1, kernel=rbf;, score=0.515 total time=   0.0s\n",
      "[CV 1/5] END ......C=100, gamma=0.1, kernel=rbf;, score=0.735 total time=   0.0s\n",
      "[CV 2/5] END ......C=100, gamma=0.1, kernel=rbf;, score=0.765 total time=   0.0s\n",
      "[CV 3/5] END ......C=100, gamma=0.1, kernel=rbf;, score=0.735 total time=   0.0s\n",
      "[CV 4/5] END ......C=100, gamma=0.1, kernel=rbf;, score=0.697 total time=   0.0s\n",
      "[CV 5/5] END ......C=100, gamma=0.1, kernel=rbf;, score=0.758 total time=   0.0s\n",
      "[CV 1/5] END .....C=100, gamma=0.01, kernel=rbf;, score=0.735 total time=   0.0s\n",
      "[CV 2/5] END .....C=100, gamma=0.01, kernel=rbf;, score=0.794 total time=   0.0s\n",
      "[CV 3/5] END .....C=100, gamma=0.01, kernel=rbf;, score=0.735 total time=   0.0s\n",
      "[CV 4/5] END .....C=100, gamma=0.01, kernel=rbf;, score=0.727 total time=   0.0s\n",
      "[CV 5/5] END .....C=100, gamma=0.01, kernel=rbf;, score=0.727 total time=   0.0s\n",
      "[CV 1/5] END ....C=100, gamma=0.001, kernel=rbf;, score=0.412 total time=   0.0s\n",
      "[CV 2/5] END ....C=100, gamma=0.001, kernel=rbf;, score=0.471 total time=   0.0s\n",
      "[CV 3/5] END ....C=100, gamma=0.001, kernel=rbf;, score=0.441 total time=   0.0s\n",
      "[CV 4/5] END ....C=100, gamma=0.001, kernel=rbf;, score=0.455 total time=   0.0s\n",
      "[CV 5/5] END ....C=100, gamma=0.001, kernel=rbf;, score=0.485 total time=   0.0s\n",
      "[CV 1/5] END ...C=100, gamma=0.0001, kernel=rbf;, score=0.382 total time=   0.0s\n",
      "[CV 2/5] END ...C=100, gamma=0.0001, kernel=rbf;, score=0.382 total time=   0.0s\n",
      "[CV 3/5] END ...C=100, gamma=0.0001, kernel=rbf;, score=0.382 total time=   0.0s\n",
      "[CV 4/5] END ...C=100, gamma=0.0001, kernel=rbf;, score=0.394 total time=   0.0s\n",
      "[CV 5/5] END ...C=100, gamma=0.0001, kernel=rbf;, score=0.394 total time=   0.0s\n",
      "[CV 1/5] END .......C=1000, gamma=1, kernel=rbf;, score=0.412 total time=   0.0s\n",
      "[CV 2/5] END .......C=1000, gamma=1, kernel=rbf;, score=0.529 total time=   0.0s\n",
      "[CV 3/5] END .......C=1000, gamma=1, kernel=rbf;, score=0.382 total time=   0.0s\n",
      "[CV 4/5] END .......C=1000, gamma=1, kernel=rbf;, score=0.455 total time=   0.0s\n",
      "[CV 5/5] END .......C=1000, gamma=1, kernel=rbf;, score=0.515 total time=   0.0s\n",
      "[CV 1/5] END .....C=1000, gamma=0.1, kernel=rbf;, score=0.735 total time=   0.0s\n",
      "[CV 2/5] END .....C=1000, gamma=0.1, kernel=rbf;, score=0.765 total time=   0.0s\n",
      "[CV 3/5] END .....C=1000, gamma=0.1, kernel=rbf;, score=0.735 total time=   0.0s\n",
      "[CV 4/5] END .....C=1000, gamma=0.1, kernel=rbf;, score=0.697 total time=   0.0s\n",
      "[CV 5/5] END .....C=1000, gamma=0.1, kernel=rbf;, score=0.758 total time=   0.0s\n",
      "[CV 1/5] END ....C=1000, gamma=0.01, kernel=rbf;, score=0.735 total time=   0.0s\n",
      "[CV 2/5] END ....C=1000, gamma=0.01, kernel=rbf;, score=0.794 total time=   0.0s\n",
      "[CV 3/5] END ....C=1000, gamma=0.01, kernel=rbf;, score=0.735 total time=   0.0s\n",
      "[CV 4/5] END ....C=1000, gamma=0.01, kernel=rbf;, score=0.727 total time=   0.0s\n",
      "[CV 5/5] END ....C=1000, gamma=0.01, kernel=rbf;, score=0.727 total time=   0.0s\n",
      "[CV 1/5] END ...C=1000, gamma=0.001, kernel=rbf;, score=0.735 total time=   0.0s\n",
      "[CV 2/5] END ...C=1000, gamma=0.001, kernel=rbf;, score=0.794 total time=   0.0s\n",
      "[CV 3/5] END ...C=1000, gamma=0.001, kernel=rbf;, score=0.735 total time=   0.0s\n",
      "[CV 4/5] END ...C=1000, gamma=0.001, kernel=rbf;, score=0.727 total time=   0.0s\n",
      "[CV 5/5] END ...C=1000, gamma=0.001, kernel=rbf;, score=0.727 total time=   0.0s\n",
      "[CV 1/5] END ..C=1000, gamma=0.0001, kernel=rbf;, score=0.412 total time=   0.0s\n",
      "[CV 2/5] END ..C=1000, gamma=0.0001, kernel=rbf;, score=0.471 total time=   0.0s\n",
      "[CV 3/5] END ..C=1000, gamma=0.0001, kernel=rbf;, score=0.441 total time=   0.0s\n",
      "[CV 4/5] END ..C=1000, gamma=0.0001, kernel=rbf;, score=0.455 total time=   0.0s\n",
      "[CV 5/5] END ..C=1000, gamma=0.0001, kernel=rbf;, score=0.485 total time=   0.0s\n",
      "GridSearch took 3.92 seconds to complete.\n"
     ]
    },
    {
     "data": {
      "text/plain": [
       "{'C': 100, 'gamma': 0.01, 'kernel': 'rbf'}"
      ]
     },
     "metadata": {},
     "output_type": "display_data"
    },
    {
     "name": "stdout",
     "output_type": "stream",
     "text": [
      "Cross-Validated Score of the Best Estimator: 0.744\n"
     ]
    }
   ],
   "source": [
    "param_grid = {'C': [0.1, 1, 10, 100, 1000],  \n",
    "              'gamma': [1, 0.1, 0.01, 0.001, 0.0001], \n",
    "              'kernel': ['rbf']}  \n",
    "\n",
    "start = time()\n",
    "grid_search = GridSearchCV(SVC(), param_grid, refit = True, verbose = 3) \n",
    "grid_search.fit(X_train, y_train) \n",
    "print(\"GridSearch took %.2f seconds to complete.\" % (time()-start))\n",
    "display(grid_search.best_params_)\n",
    "print(\"Cross-Validated Score of the Best Estimator: %.3f\" % grid_search.best_score_)"
   ]
  },
  {
   "cell_type": "code",
   "execution_count": 200,
   "id": "756a3b13-a8e1-4f3b-a235-bb4949e1e35f",
   "metadata": {},
   "outputs": [
    {
     "name": "stdout",
     "output_type": "stream",
     "text": [
      "              precision    recall  f1-score   support\n",
      "\n",
      "           1       0.68      0.77      0.72        22\n",
      "           2       0.67      0.67      0.67         6\n",
      "           3       1.00      0.75      0.86         8\n",
      "           4       0.33      0.12      0.18         8\n",
      "           5       0.70      0.79      0.74        29\n",
      "\n",
      "    accuracy                           0.70        73\n",
      "   macro avg       0.68      0.62      0.63        73\n",
      "weighted avg       0.68      0.70      0.68        73\n",
      "\n",
      "Accuracy Score: 0.699\n"
     ]
    }
   ],
   "source": [
    "svc_pred = grid_search.predict(X_test) \n",
    "\n",
    "print(classification_report(y_test, svc_pred)) \n",
    "print(\"Accuracy Score: %.3f\" % accuracy_score(y_test, svc_pred))"
   ]
  },
  {
   "cell_type": "code",
   "execution_count": 204,
   "id": "b9706ef7-80d0-4005-8e5a-72c899de995e",
   "metadata": {},
   "outputs": [
    {
     "name": "stdout",
     "output_type": "stream",
     "text": [
      "GridSearch took 3.74 seconds to complete.\n"
     ]
    },
    {
     "data": {
      "text/plain": [
       "{'criterion': 'entropy', 'max_depth': 15}"
      ]
     },
     "metadata": {},
     "output_type": "display_data"
    },
    {
     "name": "stdout",
     "output_type": "stream",
     "text": [
      "Cross-Validated Score of the Best Estimator: 0.661\n"
     ]
    }
   ],
   "source": [
    "from sklearn.tree import DecisionTreeClassifier\n",
    "\n",
    "param_grid = {'criterion':['gini','entropy'],\n",
    "              'max_depth':[4,5,6,7,8,9,10,11,12,15,20,30,40,50,70,90,120,150]}\n",
    "\n",
    "start = time()\n",
    "tree_grid_search = GridSearchCV(DecisionTreeClassifier(), param_grid, cv=5) \n",
    "tree_grid_search.fit(X_train, y_train) \n",
    "print(\"GridSearch took %.2f seconds to complete.\" % (time()-start))\n",
    "display(tree_grid_search.best_params_)\n",
    "print(\"Cross-Validated Score of the Best Estimator: %.3f\" % tree_grid_search.best_score_)"
   ]
  },
  {
   "cell_type": "code",
   "execution_count": 206,
   "id": "b9f739ef-9ed4-42f4-be6e-d953eb3a12c3",
   "metadata": {},
   "outputs": [
    {
     "name": "stdout",
     "output_type": "stream",
     "text": [
      "              precision    recall  f1-score   support\n",
      "\n",
      "           1       0.43      0.45      0.44        22\n",
      "           2       0.67      0.33      0.44         6\n",
      "           3       1.00      0.62      0.77         8\n",
      "           4       0.22      0.25      0.24         8\n",
      "           5       0.58      0.66      0.61        29\n",
      "\n",
      "    accuracy                           0.52        73\n",
      "   macro avg       0.58      0.46      0.50        73\n",
      "weighted avg       0.55      0.52      0.52        73\n",
      "\n",
      "Accuracy Score: 0.521\n"
     ]
    }
   ],
   "source": [
    "tree_pred = tree_grid_search.predict(X_test) \n",
    "\n",
    "print(classification_report(y_test, tree_pred)) \n",
    "print(\"Accuracy Score: %.3f\" % accuracy_score(y_test, tree_pred))"
   ]
  },
  {
   "cell_type": "markdown",
   "id": "fff35336-8a32-435e-96b5-43479aa421f8",
   "metadata": {},
   "source": [
    "Качество на деревьях хуже всего - 0,521, почти рандом"
   ]
  }
 ],
 "metadata": {
  "kernelspec": {
   "display_name": "Python 3 (ipykernel)",
   "language": "python",
   "name": "python3"
  },
  "language_info": {
   "codemirror_mode": {
    "name": "ipython",
    "version": 3
   },
   "file_extension": ".py",
   "mimetype": "text/x-python",
   "name": "python",
   "nbconvert_exporter": "python",
   "pygments_lexer": "ipython3",
   "version": "3.12.4"
  }
 },
 "nbformat": 4,
 "nbformat_minor": 5
}
